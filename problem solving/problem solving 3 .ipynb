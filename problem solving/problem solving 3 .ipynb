{
  "cells": [
    {
      "cell_type": "markdown",
      "metadata": {
        "id": "ndtaSKmL8FUu"
      },
      "source": [
        "> # Dear Epsilon Students, \n",
        "> # The More you practice The better You'll Be."
      ]
    },
    {
      "cell_type": "markdown",
      "metadata": {
        "id": "Lwz37HHO8FU3"
      },
      "source": [
        "### Instructions: \n",
        "- Make sure that you understand this topics before you start.\n",
        "- If you found something hard to do, try and try then google it and finally ask someone. \n",
        "- You can divide this work into daily tasks so that you do not feel pressure.\n",
        "- After you finish, go to model answer and rate yourself. \n",
        "- If you find something ambiguous, Try to make a hypothesis to solve a problem. "
      ]
    },
    {
      "cell_type": "markdown",
      "metadata": {
        "id": "52_45pku8FU5"
      },
      "source": [
        "### Question classification: \n",
        "- Green is level 1 \n",
        "- Orange is level 2 \n",
        "- Red is level 3 "
      ]
    },
    {
      "cell_type": "markdown",
      "metadata": {
        "id": "wY81ULz68FU7"
      },
      "source": [
        "# <center> Let's start 💪 </center> "
      ]
    },
    {
      "cell_type": "markdown",
      "metadata": {
        "id": "HJMQH4Fd8FU9"
      },
      "source": [
        "## <p style=\"color:orange;\">Q.01 print out words that start with 's' in the following sentence.</p>\n",
        "> st = 'Print only the words that start with s in this sentence'"
      ]
    },
    {
      "cell_type": "code",
      "execution_count": 4,
      "metadata": {
        "colab": {
          "base_uri": "https://localhost:8080/"
        },
        "id": "Y7_boQTb8FU_",
        "outputId": "15406775-ea23-42ee-9efe-308228ac0f5b"
      },
      "outputs": [
        {
          "data": {
            "text/plain": [
              "['start', 'sentence']"
            ]
          },
          "execution_count": 4,
          "metadata": {},
          "output_type": "execute_result"
        }
      ],
      "source": [
        "# Answer here \n",
        "st = 'Print only the words that start with s in this sentence'\n",
        "list_start_with_s = [x for x in st.split(' ') if x[0]=='s'and x != 's']\n",
        "list_start_with_s"
      ]
    },
    {
      "cell_type": "markdown",
      "metadata": {
        "id": "9S6Q7jp-8FVC"
      },
      "source": [
        "## <p style=\"color:orange;\">Q.02 Use List comprehension to create a list of all numbers between 1 and 50 that are divisible by 3.</p>"
      ]
    },
    {
      "cell_type": "code",
      "execution_count": 6,
      "metadata": {
        "colab": {
          "base_uri": "https://localhost:8080/"
        },
        "id": "H5fQBxwO8FVE",
        "outputId": "7139e4ac-ba0c-45d6-e274-edb9a30a133a"
      },
      "outputs": [
        {
          "data": {
            "text/plain": [
              "[3, 6, 9, 12, 15, 18, 21, 24, 27, 30, 33, 36, 39, 42, 45, 48]"
            ]
          },
          "execution_count": 6,
          "metadata": {},
          "output_type": "execute_result"
        }
      ],
      "source": [
        "# Answer here \n",
        "list_of_number = [num for num in range(1,50) if num % 3 ==0]\n",
        "list_of_number"
      ]
    },
    {
      "cell_type": "markdown",
      "metadata": {
        "id": "1fZ-nFeq8FVF"
      },
      "source": [
        "## <p style=\"color:orange;\">Q.03 Go through the string below and if the length of a word is even print \"even!\"</p>\n",
        "> st = 'Print only the words that start with s in this sentence'"
      ]
    },
    {
      "cell_type": "code",
      "execution_count": 11,
      "metadata": {
        "colab": {
          "base_uri": "https://localhost:8080/"
        },
        "id": "EoH2pvcQ8FVG",
        "outputId": "1a87e8c0-f23d-4ced-fdcd-6345910711f0"
      },
      "outputs": [
        {
          "name": "stdout",
          "output_type": "stream",
          "text": [
            "your string is : Print only the words that start with s in this sentence  and the is_even_string is : False True False False True False True False True True True\n"
          ]
        }
      ],
      "source": [
        "# Answer here \n",
        "st = 'Print only the words that start with s in this sentence'\n",
        "def is_len_even(str_):\n",
        "  list_of_answar =[]\n",
        "  for i in str_.split(' '):\n",
        "    if len(i) %2 == 0 :\n",
        "      list_of_answar.append('True')\n",
        "    else :\n",
        "      list_of_answar.append('False')\n",
        "  list_of_answar = ' '.join(list_of_answar)\n",
        "  print(f'your string is : {str_}  and the is_even_string is : {list_of_answar}')\n",
        "  \n",
        "is_len_even(st)"
      ]
    },
    {
      "cell_type": "markdown",
      "metadata": {
        "id": "LnZ1XKKf8FVG"
      },
      "source": [
        "## <p style=\"color:green;\">Q.04 Given X which is a password. Print \"Wrong\" if the password is incorrect otherwise, print \"Correct\" and terminate the program.</p>\n",
        "> The \"Correct\" password is the number 1999.\n",
        "\n",
        "> Note: Don't end the program even if the user write the correct password."
      ]
    },
    {
      "cell_type": "code",
      "execution_count": 16,
      "metadata": {
        "colab": {
          "base_uri": "https://localhost:8080/"
        },
        "id": "b_TgjjF08FVH",
        "outputId": "3baa263f-8711-4ced-c4f9-25c6fff66fca"
      },
      "outputs": [
        {
          "name": "stdout",
          "output_type": "stream",
          "text": [
            " please enter password : 1258\n",
            " Wrong \n",
            " again enter 1 end program enter 2 : 7\n",
            "valid ansawer ...... end program\n"
          ]
        }
      ],
      "source": [
        "# Answer here\n",
        "while True : \n",
        "  password=int(input(' please enter password : '))\n",
        "  if password == 1999 :\n",
        "    print (' correct ')\n",
        "  else :\n",
        "    print(' Wrong ')\n",
        "  again_or_not = int(input( ' again enter 1 end program enter 2 : '))\n",
        "  if again_or_not == 1 :\n",
        "    continue\n",
        "  elif again_or_not == 2 :\n",
        "    break \n",
        "  else :\n",
        "    print('valid ansawer ...... end program')\n",
        "    break"
      ]
    },
    {
      "cell_type": "markdown",
      "metadata": {
        "id": "S-v-6Kfl8FVH"
      },
      "source": [
        "## <p style=\"color:red;\">Q.05 Given a number N. Print the factorial of number N.</p>\n",
        "> For information about factorial: https://en.wikipedia.org/wiki/Factorial"
      ]
    },
    {
      "cell_type": "code",
      "execution_count": 17,
      "metadata": {
        "colab": {
          "base_uri": "https://localhost:8080/"
        },
        "id": "mquwaEKR8FVI",
        "outputId": "d8431cb6-8bcf-4b3c-fd7f-6ddbd82f6dcf"
      },
      "outputs": [
        {
          "name": "stdout",
          "output_type": "stream",
          "text": [
            " enter number : 5\n",
            " factorial of number 5 = 120\n"
          ]
        }
      ],
      "source": [
        "# Answer here \n",
        "number = int(input(' enter number : '))\n",
        "factorial_of_number=1\n",
        "for i in range(1,number+1):\n",
        "  factorial_of_number *=i\n",
        "print(' factorial of number {0} = {1}'.format(number,factorial_of_number))"
      ]
    },
    {
      "cell_type": "markdown",
      "metadata": {
        "id": "x-SgLqyX8FVI"
      },
      "source": [
        "## <p style=\"color:red;\">Q.06 Given a number N.print sum of numbers from 1 to N, Using a loop.</p>\n",
        "> list4 = [5,3,4,6,1]"
      ]
    },
    {
      "cell_type": "code",
      "execution_count": 19,
      "metadata": {
        "colab": {
          "base_uri": "https://localhost:8080/"
        },
        "id": "hce1W5Wu8FVI",
        "outputId": "a026bda5-914b-41a8-9810-8d048ac26fe8"
      },
      "outputs": [
        {
          "name": "stdout",
          "output_type": "stream",
          "text": [
            " enter number : 5\n",
            " sum of numbers from 5 to 1  = 15\n"
          ]
        }
      ],
      "source": [
        "# Answer here \n",
        "number = int(input(' enter number : '))\n",
        "sum_of_numbers=0\n",
        "for i in range(number+1):\n",
        "  sum_of_numbers +=i\n",
        "print(' sum of numbers from {0} to 1  = {1}'.format(number,sum_of_numbers))"
      ]
    },
    {
      "cell_type": "code",
      "execution_count": null,
      "metadata": {
        "id": "wofe1DTPKTLv"
      },
      "outputs": [],
      "source": []
    },
    {
      "cell_type": "markdown",
      "metadata": {
        "id": "-d3Jhxc28FVJ"
      },
      "source": [
        "## <p style=\"color:orange;\">Q.07 - Write a Python program to construct the following pattern.</p>\n"
      ]
    },
    {
      "cell_type": "raw",
      "metadata": {
        "id": "GCOslBuY8FVJ"
      },
      "source": [
        "* \n",
        "* * \n",
        "* * * \n",
        "* * * * \n",
        "* * * * * "
      ]
    },
    {
      "cell_type": "code",
      "execution_count": 24,
      "metadata": {
        "colab": {
          "base_uri": "https://localhost:8080/"
        },
        "id": "C57tY-MF8FVK",
        "outputId": "2a511c01-9afc-49db-f4f0-1361b3a2b617"
      },
      "outputs": [
        {
          "name": "stdout",
          "output_type": "stream",
          "text": [
            " how many floors do you need the triangle : 5\n",
            "\n",
            "*\n",
            "**\n",
            "***\n",
            "****\n",
            "*****\n"
          ]
        }
      ],
      "source": [
        "# Answer here \n",
        "number_of_floor = int(input(' how many floors do you need the triangle : '))\n",
        "for i in range(number_of_floor+1):\n",
        "  print( i * '*')"
      ]
    },
    {
      "cell_type": "markdown",
      "metadata": {
        "id": "AwNgBVpJ8FVK"
      },
      "source": [
        "## <p style=\"color:green;\">Q.08 Write a Python program that prints all the numbers from 0 to 6 except 3 and 6.</p>\n"
      ]
    },
    {
      "cell_type": "code",
      "execution_count": 26,
      "metadata": {
        "colab": {
          "base_uri": "https://localhost:8080/"
        },
        "id": "PBi8wD9n8FVK",
        "outputId": "15a50595-b194-4298-bc27-8628506cb22a"
      },
      "outputs": [
        {
          "data": {
            "text/plain": [
              "[0, 1, 2, 4, 5]"
            ]
          },
          "execution_count": 26,
          "metadata": {},
          "output_type": "execute_result"
        }
      ],
      "source": [
        "# Answer here \n",
        "list_=[num for num in range(7) if num not in [3,6]]\n",
        "list_"
      ]
    },
    {
      "cell_type": "markdown",
      "metadata": {
        "id": "7US2C4a38FVL"
      },
      "source": [
        "## <p style=\"color:green;\">Q.09 Timon has a candies and his friend, Pumbaa, has b candies, so Pumbaa asked Timon to tell him the value of a−b. However, Timon will tell him the value of a−b if the value is ≥0; otherwise, he will lie and say 0. Since it was a hard task for Timon, he's asking for your help.</p>\n"
      ]
    },
    {
      "cell_type": "code",
      "execution_count": 28,
      "metadata": {
        "colab": {
          "base_uri": "https://localhost:8080/"
        },
        "id": "VdNKf8Wy8FVL",
        "outputId": "34204f1c-82ba-4ca1-f041-9c207d79633f"
      },
      "outputs": [
        {
          "name": "stdout",
          "output_type": "stream",
          "text": [
            " num of Timon candies : 10\n",
            " num of Pumbaa candies : 20\n",
            "0\n"
          ]
        }
      ],
      "source": [
        "# Answer here \n",
        "a , b =  int(input(' num of Timon candies : ')) ,  int(input(' num of Pumbaa candies : '))\n",
        "print(a-b if a-b >=0 else 0)"
      ]
    },
    {
      "cell_type": "markdown",
      "metadata": {
        "id": "o6oniN0_8FVM"
      },
      "source": [
        "## <p style=\"color:green;\">Q.10 Given a list. Replace every positive number by 1, Replace every negative number by 2.</p>\n",
        "> [19, 20, 21, 10, -53, -23, 10]"
      ]
    },
    {
      "cell_type": "code",
      "execution_count": 44,
      "metadata": {
        "colab": {
          "base_uri": "https://localhost:8080/"
        },
        "id": "U389sTVx8FVM",
        "outputId": "447ce664-61fb-480d-91ae-e68b0b91c038"
      },
      "outputs": [
        {
          "data": {
            "text/plain": [
              "[1, 1, 1, 1, 2, 2, 1]"
            ]
          },
          "execution_count": 44,
          "metadata": {},
          "output_type": "execute_result"
        }
      ],
      "source": [
        "# Answer here \n",
        "list_ = [19, 20, 21, 10, -53, -23, 10]\n",
        "positive_or_negative_list = []\n",
        "for i in list_:\n",
        "   if i>0 :\n",
        "     positive_or_negative_list.append(1)\n",
        "   elif i<0:\n",
        "     positive_or_negative_list.append(2)\n",
        "   else:\n",
        "      positive_or_negative_list.append(0)\n",
        "  \n",
        "\n",
        "\n",
        "positive_or_negative_list"
      ]
    },
    {
      "cell_type": "markdown",
      "metadata": {
        "id": "jAn5-wd48FVM"
      },
      "source": [
        "## <p style=\"color:green;\">Q.11 Write a Python program to convert temperatures to and from celsius, fahrenheit.</p>\n",
        ">[ Formula : c/5 = f-32/9 [ where c = temperature in celsius and f = temperature in fahrenheit ]"
      ]
    },
    {
      "cell_type": "code",
      "execution_count": 52,
      "metadata": {
        "colab": {
          "base_uri": "https://localhost:8080/"
        },
        "id": "2xN9QnCT8FVN",
        "outputId": "98f93c7d-5bc6-4fdd-86c6-4b8e2aa20ef9"
      },
      "outputs": [
        {
          "name": "stdout",
          "output_type": "stream",
          "text": [
            " to convert from celsius to fahrenheit enter 1 :\n",
            "to convert from fahrenheit to celsius enter 2 :\n",
            "1\n",
            "enter temperature in celsius : 1\n",
            "temperature in fahrenheit = 33.8\n"
          ]
        }
      ],
      "source": [
        "# Answer here \n",
        "convertor = int(input(\n",
        "''' to convert from celsius to fahrenheit enter 1 :\n",
        "to convert from fahrenheit to celsius enter 2 :\n",
        "'''\n",
        "))\n",
        "\n",
        "\n",
        "if convertor == 1:\n",
        "  tem_cel = float(input('enter temperature in celsius : '))\n",
        "  temp_fahren =((9/5)*tem_cel) + 32\n",
        "  print ('temperature in fahrenheit = {}'.format(temp_fahren)) \n",
        "elif convertor == 2:\n",
        "  tem_fahr = float(input('enter temperature in fahrenheit : '))\n",
        "  temp_Cels =((5*tem_fahr)-160)/9\n",
        "  print ('temperature in celsius = {}'.format(temp_Cels))"
      ]
    },
    {
      "cell_type": "markdown",
      "metadata": {
        "id": "EAJFstxI8FVN"
      },
      "source": [
        "## <p style=\"color:orange;\">Q.12 Write a Python program to create the multiplication table (from 1 to 10) of a number.</p>"
      ]
    },
    {
      "cell_type": "raw",
      "metadata": {
        "id": "hQkJZPnh8FVN"
      },
      "source": [
        "Expected Output:\n",
        "\n",
        "Input a number: 6                                                       \n",
        "6 x 1 = 6                                                               \n",
        "6 x 2 = 12                                                              \n",
        "6 x 3 = 18                                                              \n",
        "6 x 4 = 24                                                              \n",
        "6 x 5 = 30                                                              \n",
        "6 x 6 = 36                                                              \n",
        "6 x 7 = 42                                                              \n",
        "6 x 8 = 48                                                              \n",
        "6 x 9 = 54                                                              \n",
        "6 x 10 = 60 "
      ]
    },
    {
      "cell_type": "markdown",
      "metadata": {
        "id": "JfGQ6JPo8FVN"
      },
      "source": [
        "# <center> Thank's for your effort ❤️ </center> "
      ]
    },
    {
      "cell_type": "code",
      "execution_count": 1,
      "metadata": {
        "id": "xIqgfJjPcQ6f"
      },
      "outputs": [
        {
          "name": "stdout",
          "output_type": "stream",
          "text": [
            "_____________________________  the multiplication table of 5  _____________________________\n",
            "1 * 5 = 5\n",
            "2 * 5 = 10\n",
            "3 * 5 = 15\n",
            "4 * 5 = 20\n",
            "5 * 5 = 25\n",
            "6 * 5 = 30\n",
            "7 * 5 = 35\n",
            "8 * 5 = 40\n",
            "9 * 5 = 45\n",
            "10 * 5 = 50\n",
            "_______________________________________________________________________________________________\n"
          ]
        }
      ],
      "source": [
        "# Answer here \n",
        "num = int(input(' enter number to create the multiplication table'))\n",
        "print(f'_____________________________  the multiplication table of {num}  _____________________________')\n",
        "for o in range(1,11):\n",
        "  print(f'{o} * {num} = {o*num}')\n",
        "print(f'_______________________________________________________________________________________________')  "
      ]
    }
  ],
  "metadata": {
    "colab": {
      "provenance": []
    },
    "interpreter": {
      "hash": "d7288e82646d3164eca24130947288f8779d11454649f2c02a5dfc42af7f324c"
    },
    "kernelspec": {
      "display_name": "Python 3.7.6 ('base')",
      "language": "python",
      "name": "python3"
    },
    "language_info": {
      "codemirror_mode": {
        "name": "ipython",
        "version": 3
      },
      "file_extension": ".py",
      "mimetype": "text/x-python",
      "name": "python",
      "nbconvert_exporter": "python",
      "pygments_lexer": "ipython3",
      "version": "3.7.6"
    }
  },
  "nbformat": 4,
  "nbformat_minor": 0
}

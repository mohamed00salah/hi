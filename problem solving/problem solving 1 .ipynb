{
  "cells": [
    {
      "cell_type": "markdown",
      "metadata": {
        "id": "Q0FOSRH6vyfk"
      },
      "source": [
        "> # Dear Epsilon Students, \n",
        "> # The More you practice The better You'll Be."
      ]
    },
    {
      "cell_type": "markdown",
      "metadata": {
        "id": "F-Y9zokEvyfp"
      },
      "source": [
        "# Q.1 Given the radius of circle, print circumference of circle"
      ]
    },
    {
      "cell_type": "code",
      "execution_count": null,
      "metadata": {
        "colab": {
          "base_uri": "https://localhost:8080/"
        },
        "id": "eN1PSuewvyfq",
        "outputId": "104f13cb-ba2d-4b08-dc0f-6262b5f16c52"
      },
      "outputs": [
        {
          "output_type": "stream",
          "name": "stdout",
          "text": [
            "Enter radius7\n",
            "circumference of circle = 2 * 22/7 * 7 = 44.0\n"
          ]
        }
      ],
      "source": [
        "# Answer here \n",
        "x = int(input('Enter radius'))\n",
        "circumference_of_circle = 2*22/7* x\n",
        "print('circumference of circle = 2 * 22/7 * {} = {}'.format(x,circumference_of_circle))"
      ]
    },
    {
      "cell_type": "markdown",
      "metadata": {
        "id": "p3UGVO5lvyfr"
      },
      "source": [
        "# Q.2 Given the width and heught of rectangle, print perimeter of rectangle"
      ]
    },
    {
      "cell_type": "code",
      "execution_count": null,
      "metadata": {
        "colab": {
          "base_uri": "https://localhost:8080/"
        },
        "id": "B7wzfEX-vyfs",
        "outputId": "baffab32-f229-4ad4-b03e-7d8c2a654a87"
      },
      "outputs": [
        {
          "output_type": "stream",
          "name": "stdout",
          "text": [
            "Enter width5\n",
            "Enter heught5\n",
            "perimeter of rectangle =  ( 5 + 5 ) * 2 = 20\n"
          ]
        }
      ],
      "source": [
        "# Answer here \n",
        "x = int(input('Enter width'))\n",
        "y = int(input('Enter heught'))\n",
        "perimeter_of_rectangle = (x+y) * 2\n",
        "print('perimeter of rectangle =  ( {0} + {1} ) * 2 = {2}'.format(x,y,perimeter_of_rectangle))"
      ]
    },
    {
      "cell_type": "markdown",
      "metadata": {
        "id": "bXrtqBQWvyfs"
      },
      "source": [
        "# <center> Thank's for your effort ❤️ </center> "
      ]
    }
  ],
  "metadata": {
    "kernelspec": {
      "display_name": "Python 3",
      "language": "python",
      "name": "python3"
    },
    "language_info": {
      "codemirror_mode": {
        "name": "ipython",
        "version": 3
      },
      "file_extension": ".py",
      "mimetype": "text/x-python",
      "name": "python",
      "nbconvert_exporter": "python",
      "pygments_lexer": "ipython3",
      "version": "3.8.5"
    },
    "colab": {
      "provenance": []
    }
  },
  "nbformat": 4,
  "nbformat_minor": 0
}
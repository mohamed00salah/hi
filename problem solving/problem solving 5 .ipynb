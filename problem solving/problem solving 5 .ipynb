{
  "cells": [
    {
      "cell_type": "markdown",
      "metadata": {
        "id": "SASX0cMLLGbA"
      },
      "source": [
        "> # Dear Epsilon Students, \n",
        "> # The More you practice The better You'll Be."
      ]
    },
    {
      "cell_type": "markdown",
      "metadata": {
        "id": "OOYU6NYvLGbH"
      },
      "source": [
        "### Instructions: \n",
        "- Make sure that you understand this topics before you start.\n",
        "- If you found something hard to do, try and try then google it and finally ask someone. \n",
        "- You can divide this work into daily tasks so that you do not feel pressure.\n",
        "- After you finish, go to model answer and rate yourself. \n",
        "- If you find something ambiguous, Try to make a hypothesis to solve a problem. "
      ]
    },
    {
      "cell_type": "markdown",
      "metadata": {
        "id": "af2UWdWhLGbJ"
      },
      "source": [
        "### Question classification: \n",
        "- Green is level 1 \n",
        "- Orange is level 2 \n",
        "- Red is level 3 "
      ]
    },
    {
      "cell_type": "markdown",
      "metadata": {
        "id": "aeVVsYWaLGbK"
      },
      "source": [
        "# <center> Let's start 💪 </center> "
      ]
    },
    {
      "cell_type": "markdown",
      "metadata": {
        "id": "F_G7u0V_LGbL"
      },
      "source": [
        "## <p style=\"color:green;\">Q.01 Open a file, name it 'test.txt' and write 'hello world' for 5 times in it then close it.</p>"
      ]
    },
    {
      "cell_type": "code",
      "execution_count": 30,
      "metadata": {
        "colab": {
          "base_uri": "https://localhost:8080/"
        },
        "id": "RpDE4Lp5LGbL",
        "outputId": "b26095c5-6c0a-4be2-b1ad-7e51bd839b8b"
      },
      "outputs": [
        {
          "output_type": "stream",
          "name": "stdout",
          "text": [
            "hello world \n",
            "hello world \n",
            "hello world \n",
            "hello world \n",
            "hello world \n",
            "\n"
          ]
        }
      ],
      "source": [
        "# Answer here \n",
        "file = open('text.txt','w')\n",
        "for i in range(5):\n",
        "  file.write('hello world \\n')\n",
        "file.close()\n",
        "\n",
        "file = open('text.txt','r')\n",
        "print(file.read())"
      ]
    },
    {
      "cell_type": "markdown",
      "metadata": {
        "id": "2MjoRJ4VLGbN"
      },
      "source": [
        "## <p style=\"color:orange;\">Q.02 Read the contents of the file, then make content in upercase then write the result again to the file.</p>\n"
      ]
    },
    {
      "cell_type": "code",
      "execution_count": null,
      "metadata": {
        "colab": {
          "base_uri": "https://localhost:8080/"
        },
        "id": "67E3MzV1LGbP",
        "outputId": "d0371192-04a6-4e9b-a945-ab0086d38efb"
      },
      "outputs": [
        {
          "output_type": "stream",
          "name": "stdout",
          "text": [
            "HELLO WORLD \n",
            "HELLO WORLD \n",
            "HELLO WORLD \n",
            "HELLO WORLD \n",
            "HELLO WORLD \n",
            "\n"
          ]
        }
      ],
      "source": [
        "# Answer here \n",
        "\n",
        "file = open('text.txt','r')\n",
        "print(file.read().upper())"
      ]
    },
    {
      "cell_type": "markdown",
      "metadata": {
        "id": "Ac2WG6yBLGbR"
      },
      "source": [
        "## <p style=\"color:red;\">Q.03 Read the third line of the file then update it to its capital case using `capitalize`.</p>\n"
      ]
    },
    {
      "cell_type": "code",
      "source": [
        "file = open('text.txt','w')\n",
        "for i in range(5):\n",
        "  if i == 2:\n",
        "    file.write('hello world \\n'.capitalize())\n",
        "  else:\n",
        "    file.write('hello world \\n')\n",
        "\n",
        "file.close()\n",
        "\n",
        "\n",
        "file = open('text.txt','r')\n",
        "print(file.read())\n",
        "file.close()"
      ],
      "metadata": {
        "colab": {
          "base_uri": "https://localhost:8080/"
        },
        "id": "E8meJ4j0Erp4",
        "outputId": "0b6bf003-9818-447b-86a0-5e52ce34d9af"
      },
      "execution_count": 32,
      "outputs": [
        {
          "output_type": "stream",
          "name": "stdout",
          "text": [
            "hello world \n",
            "hello world \n",
            "Hello world \n",
            "hello world \n",
            "hello world \n",
            "\n"
          ]
        }
      ]
    },
    {
      "cell_type": "markdown",
      "metadata": {
        "id": "e2pUBtbvLGbT"
      },
      "source": [
        "## <p style=\"color:green;\">Q.04 Using With Statement open this file and append 'I Love python' to it.</p>\n"
      ]
    },
    {
      "cell_type": "code",
      "execution_count": 34,
      "metadata": {
        "id": "2jJuK_0tLGbT",
        "colab": {
          "base_uri": "https://localhost:8080/"
        },
        "outputId": "a470e1b3-c116-4905-a581-190bfb7381ab"
      },
      "outputs": [
        {
          "output_type": "stream",
          "name": "stdout",
          "text": [
            "hello world \n",
            "hello world \n",
            "Hello world \n",
            "hello world \n",
            "hello world \n",
            "I Love python \n",
            "I Love python \n",
            "\n"
          ]
        }
      ],
      "source": [
        "# Answer here \n",
        "with open('text.txt','a') as fh:\n",
        "  fh.write('I Love python \\n')\n",
        "  fh.close()\n",
        "with open('text.txt','r') as fh:\n",
        "  print(fh.read())\n",
        "  fh.close()\n"
      ]
    },
    {
      "cell_type": "markdown",
      "metadata": {
        "id": "i9amk9DLLGbU"
      },
      "source": [
        "# <center> Thank's for your effort ❤️ </center> "
      ]
    }
  ],
  "metadata": {
    "kernelspec": {
      "display_name": "Python 3",
      "language": "python",
      "name": "python3"
    },
    "language_info": {
      "codemirror_mode": {
        "name": "ipython",
        "version": 3
      },
      "file_extension": ".py",
      "mimetype": "text/x-python",
      "name": "python",
      "nbconvert_exporter": "python",
      "pygments_lexer": "ipython3",
      "version": "3.8.5"
    },
    "colab": {
      "provenance": []
    }
  },
  "nbformat": 4,
  "nbformat_minor": 0
}
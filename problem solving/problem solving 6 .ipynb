{
  "cells": [
    {
      "cell_type": "markdown",
      "metadata": {
        "id": "E-nPxUJBp0Aw"
      },
      "source": [
        "> # Dear Epsilon Students, \n",
        "> # The More you practice The better You'll Be."
      ]
    },
    {
      "cell_type": "markdown",
      "metadata": {
        "id": "vUPEzzktp0A3"
      },
      "source": [
        "### Instructions: \n",
        "- Make sure that you understand this topics before you start.\n",
        "- If you found something hard to do, try and try then google it and finally ask someone. \n",
        "- You can divide this work into daily tasks so that you do not feel pressure.\n",
        "- After you finish, go to model answer and rate yourself. \n",
        "- If you find something ambiguous, Try to make a hypothesis to solve a problem. "
      ]
    },
    {
      "cell_type": "markdown",
      "metadata": {
        "id": "DXFQgKLPp0A5"
      },
      "source": [
        "### Question classification: \n",
        "- Green is level 1 \n",
        "- Orange is level 2 \n",
        "- Red is level 3 "
      ]
    },
    {
      "cell_type": "markdown",
      "metadata": {
        "id": "B8zgi1dPp0A9"
      },
      "source": [
        "# <center> Let's start 💪 </center> "
      ]
    },
    {
      "cell_type": "markdown",
      "metadata": {
        "id": "75VkXNWWp0A_"
      },
      "source": [
        "## <p style=\"color:green;\">Q.01 Fill in the Line class methods to accept coordinates as a pair of tuples and return the slope and distance of the line.</p>\n"
      ]
    },
    {
      "cell_type": "code",
      "execution_count": 5,
      "metadata": {
        "id": "acFj_042p0BC",
        "colab": {
          "base_uri": "https://localhost:8080/"
        },
        "outputId": "1e9f8de3-bfac-47e2-c789-f028ca97055d"
      },
      "outputs": [
        {
          "output_type": "stream",
          "name": "stdout",
          "text": [
            "Distance = 29\n",
            "slope = 0.16\n"
          ]
        }
      ],
      "source": [
        "# Answer here \n",
        "class Line:\n",
        "    \n",
        "    def __init__(self,coor1,coor2):\n",
        "        self.coor1 = coor1\n",
        "        self.coor2 = coor2\n",
        "    def distance(self):\n",
        "        print( f'Distance = {(self.coor1 **2) + (self.coor2 **2)}' )\n",
        "    \n",
        "    def slope(self):\n",
        "         print( f'slope = {(self.coor2 **2) / (self.coor1 **2)}' )\n",
        "\n",
        "line1 = Line(5,2)\n",
        "line1.distance()\n",
        "line1.slope()"
      ]
    },
    {
      "cell_type": "markdown",
      "metadata": {
        "id": "zn_m4Msrp0BG"
      },
      "source": [
        "## <p style=\"color:green;\">Q.02 Fill in the class to get the volume and surface area of Cylinder</p>"
      ]
    },
    {
      "cell_type": "code",
      "execution_count": 18,
      "metadata": {
        "id": "MRhkbf9Qp0BJ",
        "colab": {
          "base_uri": "https://localhost:8080/"
        },
        "outputId": "7e1d4755-4298-4c7c-cd2b-c2d9304c8bf8"
      },
      "outputs": [
        {
          "output_type": "stream",
          "name": "stdout",
          "text": [
            " surface area = 1005.31\n",
            " volume = 2412.743\n"
          ]
        }
      ],
      "source": [
        "# Answer here \n",
        "class Cylinder:\n",
        "    \n",
        "    def __init__(self,height=1,radius=1):\n",
        "        self.height = height\n",
        "        self.radius = radius\n",
        "        self.__pi = 3.14159265359\n",
        "    def volume(self):\n",
        "        v = (self.__pi * (self.radius**2 )* self.height)\n",
        "        print( f' volume = {round(v, 3)}' )\n",
        "    def surface_area(self):\n",
        "        s = ( (2 * (self.__pi * (self.radius**2 )))+(self.__pi * (self.radius*2 )*self.height))\n",
        "        print( f' surface area = {round(s, 3)}' )\n",
        "\n",
        "Cylinder1 = Cylinder(12,8)\n",
        "Cylinder1.surface_area()\n",
        "Cylinder1.volume()"
      ]
    },
    {
      "cell_type": "markdown",
      "metadata": {
        "id": "F5dVPJ65p0BN"
      },
      "source": [
        "## <p style=\"color:green;\">Q.03 Create a child class Bus that will inherit all of the variables and methods of the Vehicle class</p>\n",
        "> Given:\n"
      ]
    },
    {
      "cell_type": "code",
      "execution_count": 21,
      "metadata": {
        "id": "Wo7BkXXVp0BQ",
        "colab": {
          "base_uri": "https://localhost:8080/"
        },
        "outputId": "9b9be297-1877-428e-b2de-b5c3b464db38"
      },
      "outputs": [
        {
          "output_type": "execute_result",
          "data": {
            "text/plain": [
              "200"
            ]
          },
          "metadata": {},
          "execution_count": 21
        }
      ],
      "source": [
        "# Answer here \n",
        "class Vehicle:\n",
        "\n",
        "    def __init__(self, name, max_speed, mileage):\n",
        "        self.name = name\n",
        "        self.max_speed = max_speed\n",
        "        self.mileage = mileage\n",
        "\n",
        "class Bus(Vehicle):\n",
        "  pass\n",
        "\n",
        "Bus1=Bus('BMW' , 200 , 1000)\n",
        "Bus1.max_speed"
      ]
    },
    {
      "cell_type": "markdown",
      "metadata": {
        "id": "90gFLljCp0BS"
      },
      "source": [
        "# <center> Thank's for your effort ❤️ </center> "
      ]
    }
  ],
  "metadata": {
    "kernelspec": {
      "display_name": "Python 3",
      "language": "python",
      "name": "python3"
    },
    "language_info": {
      "codemirror_mode": {
        "name": "ipython",
        "version": 3
      },
      "file_extension": ".py",
      "mimetype": "text/x-python",
      "name": "python",
      "nbconvert_exporter": "python",
      "pygments_lexer": "ipython3",
      "version": "3.8.5"
    },
    "colab": {
      "provenance": []
    }
  },
  "nbformat": 4,
  "nbformat_minor": 0
}
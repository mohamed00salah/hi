{
  "cells": [
    {
      "cell_type": "markdown",
      "metadata": {
        "id": "7jcmi4Jj2W4c"
      },
      "source": [
        "> # Dear Epsilon Students, \n",
        "> # The More you practice The better You'll Be."
      ]
    },
    {
      "cell_type": "markdown",
      "metadata": {
        "id": "n4Zs7PVE2W4l"
      },
      "source": [
        "### Instructions: \n",
        "- Make sure that you understand this topics before you start.\n",
        "- If you found something hard to do, try and try then google it and finally ask someone. \n",
        "- You can divide this work into daily tasks so that you do not feel pressure.\n",
        "- After you finish, go to model answer and rate yourself. \n",
        "- If you find something ambiguous, Try to make a hypothesis to solve a problem. "
      ]
    },
    {
      "cell_type": "markdown",
      "metadata": {
        "id": "y5tK0t3v2W4m"
      },
      "source": [
        "### Question classification: \n",
        "- Green is level 1 \n",
        "- Orange is level 2 \n",
        "- Red is level 3 "
      ]
    },
    {
      "cell_type": "markdown",
      "metadata": {
        "id": "9x9wb-kW2W4o"
      },
      "source": [
        "# <center> Let's start 💪 </center> "
      ]
    },
    {
      "cell_type": "markdown",
      "metadata": {
        "id": "9_v51iBW2W4p"
      },
      "source": [
        "## <p style=\"color:green;\">Q.01 Write a Python program to calculate the length of a string.</p>\n"
      ]
    },
    {
      "cell_type": "code",
      "execution_count": null,
      "metadata": {
        "colab": {
          "base_uri": "https://localhost:8080/"
        },
        "id": "9SSrgxUY2W4r",
        "outputId": "81527ad6-d279-463e-f25a-014b66d79d92"
      },
      "outputs": [
        {
          "output_type": "stream",
          "name": "stdout",
          "text": [
            " length of mohamed = 7\n"
          ]
        }
      ],
      "source": [
        "# Answer here \n",
        "def calc_length(x):\n",
        "  print(' length of {} = {}'.format(x,len(x)))\n",
        "\n",
        "\n",
        "\n",
        "  \n",
        "calc_length('mohamed')"
      ]
    },
    {
      "cell_type": "markdown",
      "metadata": {
        "id": "0FePQzGB2W4u"
      },
      "source": [
        "## <p style=\"color:green;\">Q.02 Given the string 'hello' give an index command that returns 'e'</p>"
      ]
    },
    {
      "cell_type": "code",
      "execution_count": null,
      "metadata": {
        "colab": {
          "base_uri": "https://localhost:8080/",
          "height": 35
        },
        "id": "wXlCWhij2W4v",
        "outputId": "9f7dd3fc-f367-4146-a4d7-518ff51f4ae5"
      },
      "outputs": [
        {
          "output_type": "execute_result",
          "data": {
            "text/plain": [
              "'e'"
            ],
            "application/vnd.google.colaboratory.intrinsic+json": {
              "type": "string"
            }
          },
          "metadata": {},
          "execution_count": 3
        }
      ],
      "source": [
        "# Answer here \n",
        "\n",
        "'hello'[1]"
      ]
    },
    {
      "cell_type": "markdown",
      "metadata": {
        "id": "ZKe45QDR2W4w"
      },
      "source": [
        "## <p style=\"color:green;\">Q.03 Reverse the string 'hello' using slicing</p>"
      ]
    },
    {
      "cell_type": "code",
      "execution_count": null,
      "metadata": {
        "colab": {
          "base_uri": "https://localhost:8080/",
          "height": 35
        },
        "id": "uJWPBSpi2W4x",
        "outputId": "1da36929-c756-49f3-d594-d5e1479f7132"
      },
      "outputs": [
        {
          "output_type": "execute_result",
          "data": {
            "text/plain": [
              "'olleh'"
            ],
            "application/vnd.google.colaboratory.intrinsic+json": {
              "type": "string"
            }
          },
          "metadata": {},
          "execution_count": 4
        }
      ],
      "source": [
        "# Answer here \n",
        "'hello'[::-1]"
      ]
    },
    {
      "cell_type": "markdown",
      "metadata": {
        "id": "6LVlKOkp2W4y"
      },
      "source": [
        "## <p style=\"color:red;\">Q.04 Write a Python program to change a given string to a new string where the first and last chars have been exchanged.</p>"
      ]
    },
    {
      "cell_type": "code",
      "source": [
        "x='mohamed'\n",
        "print( x[-1] + x[1:-1] + x[0])"
      ],
      "metadata": {
        "colab": {
          "base_uri": "https://localhost:8080/"
        },
        "id": "vFRjJy3Y9SN7",
        "outputId": "9747b652-3b74-4974-b632-a8e88a17a739"
      },
      "execution_count": null,
      "outputs": [
        {
          "output_type": "stream",
          "name": "stdout",
          "text": [
            "dohamem\n"
          ]
        }
      ]
    },
    {
      "cell_type": "markdown",
      "metadata": {
        "id": "ygWQov3L2W4z"
      },
      "source": [
        "## <p style=\"color:green;\">Q.05 Reassign 'hello' in this nested list to say 'goodbye' instead</p>\n",
        "> list3 = [1,2,[3,4,'hello']]"
      ]
    },
    {
      "cell_type": "code",
      "execution_count": null,
      "metadata": {
        "colab": {
          "base_uri": "https://localhost:8080/"
        },
        "id": "v4dGnDmU2W4z",
        "outputId": "033df6ff-8e72-4c20-d300-41da5b2e342b"
      },
      "outputs": [
        {
          "output_type": "execute_result",
          "data": {
            "text/plain": [
              "[1, 2, [3, 4, 'goodbye']]"
            ]
          },
          "metadata": {},
          "execution_count": 22
        }
      ],
      "source": [
        "# Answer here \n",
        "list3 = [1,2,[3,4,'hello']]\n",
        "list3[2][2]='goodbye'\n",
        "list3"
      ]
    },
    {
      "cell_type": "markdown",
      "metadata": {
        "id": "A2TbZSnw2W40"
      },
      "source": [
        "## <p style=\"color:green;\">Q.06 Sort the list below</p>\n",
        "> list4 = [5,3,4,6,1]"
      ]
    },
    {
      "cell_type": "code",
      "execution_count": null,
      "metadata": {
        "colab": {
          "base_uri": "https://localhost:8080/"
        },
        "id": "F9L1Xfug2W40",
        "outputId": "ed03993f-90a8-4ddb-a286-25d63ca41bfe"
      },
      "outputs": [
        {
          "output_type": "stream",
          "name": "stdout",
          "text": [
            "[1, 3, 4, 5, 6]\n"
          ]
        }
      ],
      "source": [
        "# Answer here \n",
        "list4 = [5,3,4,6,1]\n",
        "list4.sort()\n",
        "print(list4)"
      ]
    },
    {
      "cell_type": "markdown",
      "metadata": {
        "id": "NWmFd9dx2W41"
      },
      "source": [
        "## <p style=\"color:green;\">Q.07 Write a Python program to sum all the items in a list.</p>\n"
      ]
    },
    {
      "cell_type": "code",
      "execution_count": null,
      "metadata": {
        "colab": {
          "base_uri": "https://localhost:8080/"
        },
        "id": "F52dSZwd2W41",
        "outputId": "5c36e057-4a86-423b-fe63-108bc5be6388"
      },
      "outputs": [
        {
          "output_type": "stream",
          "name": "stdout",
          "text": [
            "40\n"
          ]
        }
      ],
      "source": [
        "# Answer here \n",
        "list_=[5,6,8,9,7,4,1]\n",
        "print(sum(list_))"
      ]
    },
    {
      "cell_type": "markdown",
      "metadata": {
        "id": "f2jSEEBv2W41"
      },
      "source": [
        "## <p style=\"color:green;\">Q.08 Write a Python program to get the largest number from a list.</p>\n"
      ]
    },
    {
      "cell_type": "code",
      "execution_count": null,
      "metadata": {
        "colab": {
          "base_uri": "https://localhost:8080/"
        },
        "id": "N5CXgQTd2W41",
        "outputId": "de771018-b522-44e8-e9cc-c22d1e35b410"
      },
      "outputs": [
        {
          "output_type": "stream",
          "name": "stdout",
          "text": [
            "the largest number from [1, 2, 3, 4, 5, 6] is : 6\n"
          ]
        }
      ],
      "source": [
        "# Answer here \n",
        "def large_number_from_list(list_of_nums):\n",
        "  z= 0 \n",
        "  for i in list(list_of_nums):\n",
        "     if i > z :\n",
        "       z=i\n",
        "  print(f'the largest number from { list_of_nums } is : {z}')\n",
        "\n",
        "\n",
        "\n",
        "\n",
        "\n",
        "  \n",
        "large_number_from_list([1,2,3,4,5,6])"
      ]
    },
    {
      "cell_type": "markdown",
      "metadata": {
        "id": "AKee-JYT2W42"
      },
      "source": [
        "## <p style=\"color:green;\">Q.09 Write a Python program to get the smallest number from a list.</p>\n"
      ]
    },
    {
      "cell_type": "code",
      "execution_count": null,
      "metadata": {
        "colab": {
          "base_uri": "https://localhost:8080/"
        },
        "id": "_pxy01IN2W42",
        "outputId": "ae9c9981-a7f5-4590-c987-3b42bf6bca81"
      },
      "outputs": [
        {
          "output_type": "stream",
          "name": "stdout",
          "text": [
            "the smaler number from [1, 2, 3, 4, 5, 6] is : 1\n"
          ]
        }
      ],
      "source": [
        "# Answer here \n",
        "def smaler_number_from_list(list_of_nums):\n",
        "  z= 100000000000 \n",
        "  for i in list(list_of_nums):\n",
        "     if i < z :\n",
        "       z=i\n",
        "  print(f'the smaler number from { list_of_nums } is : {z}')\n",
        "\n",
        "\n",
        "\n",
        "\n",
        "\n",
        "  \n",
        "smaler_number_from_list([1,2,3,4,5,6])"
      ]
    },
    {
      "cell_type": "markdown",
      "metadata": {
        "id": "KJSf0mmF2W43"
      },
      "source": [
        "## <p style=\"color:orange;\">Q.10 Write a Python program to remove duplicates from a list.</p>\n"
      ]
    },
    {
      "cell_type": "code",
      "execution_count": null,
      "metadata": {
        "colab": {
          "base_uri": "https://localhost:8080/"
        },
        "id": "migLKYWf2W43",
        "outputId": "a4e547e2-a030-45ef-de76-d701e427466f"
      },
      "outputs": [
        {
          "output_type": "stream",
          "name": "stdout",
          "text": [
            "[2, 3, 4, 5, 6, 8, 9]\n"
          ]
        }
      ],
      "source": [
        "# Answer here \n",
        "def remove_duplicates(list_nums):\n",
        "  print(list(set(list(list_nums))))\n",
        "\n",
        "\n",
        "remove_duplicates([5,6,8,9,5,4,6,2,3,5,8,6,9])"
      ]
    },
    {
      "cell_type": "markdown",
      "metadata": {
        "id": "Lrzk4O-n2W43"
      },
      "source": [
        "## <p style=\"color:green;\">Q.11 Using keys and indexing, grab the 'hello' from the following dictionaries:</p>\n",
        ">d = {'k1':{'k2':'hello'}}\n",
        "\n"
      ]
    },
    {
      "cell_type": "code",
      "execution_count": null,
      "metadata": {
        "colab": {
          "base_uri": "https://localhost:8080/",
          "height": 35
        },
        "id": "a-SrWu5z2W44",
        "outputId": "d04af424-3194-4d72-90b6-66b87b7692bd"
      },
      "outputs": [
        {
          "output_type": "execute_result",
          "data": {
            "text/plain": [
              "'hello'"
            ],
            "application/vnd.google.colaboratory.intrinsic+json": {
              "type": "string"
            }
          },
          "metadata": {},
          "execution_count": 35
        }
      ],
      "source": [
        "# Answer here \n",
        "d = {'k1':{'k2':'hello'}}\n",
        "d['k1']['k2']"
      ]
    },
    {
      "cell_type": "markdown",
      "metadata": {
        "id": "4Dtkntn02W44"
      },
      "source": [
        "## <p style=\"color:orange;\">Q.12 Using keys and indexing, grab the 'hello' from the following dictionaries:</p>\n",
        "> d = {'k1':[{'nest_key':['this is deep',['hello']]}]}"
      ]
    },
    {
      "cell_type": "code",
      "execution_count": null,
      "metadata": {
        "colab": {
          "base_uri": "https://localhost:8080/"
        },
        "id": "BXKj4kU22W44",
        "outputId": "2867754c-0912-4321-9040-161cdb5949e4"
      },
      "outputs": [
        {
          "output_type": "execute_result",
          "data": {
            "text/plain": [
              "['hello']"
            ]
          },
          "metadata": {},
          "execution_count": 39
        }
      ],
      "source": [
        "# Answer here \n",
        "d = {'k1':[{'nest_key':['this is deep',['hello']]}]}\n",
        "d['k1'][0]['nest_key'][1]"
      ]
    },
    {
      "cell_type": "markdown",
      "metadata": {
        "id": "aDKbjBWp2W44"
      },
      "source": [
        "## <p style=\"color:red;\">Q.13 Using keys and indexing, grab the 'hello' from the following dictionaries:</p>\n",
        "d = {'k1':[1,2,{'k2':['this is tricky',{'tough':[1,2,['hello']]}]}]}"
      ]
    },
    {
      "cell_type": "code",
      "execution_count": null,
      "metadata": {
        "colab": {
          "base_uri": "https://localhost:8080/"
        },
        "id": "luvbFdXk2W44",
        "outputId": "bd7cd747-be8a-433a-d53e-3749a9481a49"
      },
      "outputs": [
        {
          "output_type": "execute_result",
          "data": {
            "text/plain": [
              "['hello']"
            ]
          },
          "metadata": {},
          "execution_count": 41
        }
      ],
      "source": [
        "# Answer here \n",
        "d = {'k1':[1,2,{'k2':['this is tricky',{'tough':[1,2,['hello']]}]}]}\n",
        "d['k1'][2]['k2'][1]['tough'][2]"
      ]
    },
    {
      "cell_type": "markdown",
      "metadata": {
        "id": "3X_hvrOj2W44"
      },
      "source": [
        "## <p style=\"color:green;\">Q.14 Write a Python script to add a key to a dictionary.</p>\n",
        "> Sample Dictionary : {0: 10, 1: 20}\n",
        "\n",
        "> Expected Result : {0: 10, 1: 20, 2: 30}"
      ]
    },
    {
      "cell_type": "code",
      "execution_count": null,
      "metadata": {
        "colab": {
          "base_uri": "https://localhost:8080/"
        },
        "id": "RauR8wop2W45",
        "outputId": "60bb8d96-7fd6-4835-dd02-5b1e8ddf6775"
      },
      "outputs": [
        {
          "output_type": "execute_result",
          "data": {
            "text/plain": [
              "{0: 10, 1: 20, 2: 30}"
            ]
          },
          "metadata": {},
          "execution_count": 43
        }
      ],
      "source": [
        "# Answer here \n",
        "Sample = {0: 10, 1: 20}\n",
        "Sample[2] = 30\n",
        "Sample"
      ]
    },
    {
      "cell_type": "markdown",
      "metadata": {
        "id": "b8jQ2Jjn2W45"
      },
      "source": [
        "## <p style=\"color:green;\">Q.15 Write a Python program to sum all the items in a dictionary.</p>\n"
      ]
    },
    {
      "cell_type": "code",
      "execution_count": null,
      "metadata": {
        "colab": {
          "base_uri": "https://localhost:8080/"
        },
        "id": "u7cFW6tT2W45",
        "outputId": "5cb74510-c0be-466e-db09-e4560e9aa14b"
      },
      "outputs": [
        {
          "output_type": "execute_result",
          "data": {
            "text/plain": [
              "60"
            ]
          },
          "metadata": {},
          "execution_count": 50
        }
      ],
      "source": [
        "# Answer here \n",
        "x = {0: 10, 1: 20, 2: 30}\n",
        "sum(x.values())"
      ]
    },
    {
      "cell_type": "markdown",
      "metadata": {
        "id": "5O5UNc-b2W45"
      },
      "source": [
        "## <p style=\"color:green;\">Q.16 Write a Python program to add an item in a tuple.</p>\n"
      ]
    },
    {
      "cell_type": "code",
      "execution_count": null,
      "metadata": {
        "colab": {
          "base_uri": "https://localhost:8080/"
        },
        "id": "Q_FlPPyP2W46",
        "outputId": "3ac9655b-1511-4fcc-f997-4bfafd0b2054"
      },
      "outputs": [
        {
          "output_type": "execute_result",
          "data": {
            "text/plain": [
              "('apple', 'banana', 'cherry', 'kiwi')"
            ]
          },
          "metadata": {},
          "execution_count": 55
        }
      ],
      "source": [
        "# Answer here \n",
        "x = (\"apple\", \"banana\", \"cherry\")\n",
        "y = list(x)\n",
        "y.append( \"kiwi\" )\n",
        "x = tuple(y)\n",
        "x\n",
        "\n"
      ]
    },
    {
      "cell_type": "markdown",
      "metadata": {
        "id": "KTtUZYQt2W46"
      },
      "source": [
        "## <p style=\"color:green;\">Q.17 Write a Python program to convert a tuple to a string.</p>\n"
      ]
    },
    {
      "cell_type": "code",
      "execution_count": null,
      "metadata": {
        "colab": {
          "base_uri": "https://localhost:8080/",
          "height": 35
        },
        "id": "cl3E76zg2W46",
        "outputId": "f3b7d4e0-f98c-49e0-98f2-5425d144e344"
      },
      "outputs": [
        {
          "output_type": "execute_result",
          "data": {
            "text/plain": [
              "'apple banana cherry'"
            ],
            "application/vnd.google.colaboratory.intrinsic+json": {
              "type": "string"
            }
          },
          "metadata": {},
          "execution_count": 61
        }
      ],
      "source": [
        "# Answer here \n",
        "x = (\"apple\", \"banana\", \"cherry\")\n",
        "y = ' '.join(x)\n",
        "y\n"
      ]
    },
    {
      "cell_type": "markdown",
      "metadata": {
        "id": "0ec1stSu2W46"
      },
      "source": [
        "## <p style=\"color:green;\">Q.18 Write a Python program to remove item(s) from a given set.</p>\n"
      ]
    },
    {
      "cell_type": "code",
      "execution_count": null,
      "metadata": {
        "colab": {
          "base_uri": "https://localhost:8080/"
        },
        "id": "3TQkt0k82W47",
        "outputId": "21a89b48-59f9-4cbf-8e53-e142c321222a"
      },
      "outputs": [
        {
          "output_type": "execute_result",
          "data": {
            "text/plain": [
              "{1, 6, 7}"
            ]
          },
          "metadata": {},
          "execution_count": 64
        }
      ],
      "source": [
        "# Answer here \n",
        "x = {1,5,6,7}\n",
        "x.remove(5)\n",
        "x\n"
      ]
    },
    {
      "cell_type": "markdown",
      "metadata": {
        "id": "Uiu0RmGi2W47"
      },
      "source": [
        "## <p style=\"color:orange;\">Q.19 Write a Python program to create an intersection of sets.</p>\n",
        "> Explanation : In mathematics, the intersection of two sets A and B, denoted by A ∩ B, is the set containing all elements of A that also belong to B (or equivalently, all elements of B that also belong to A)."
      ]
    },
    {
      "cell_type": "code",
      "execution_count": null,
      "metadata": {
        "colab": {
          "base_uri": "https://localhost:8080/"
        },
        "id": "NmtMv80N2W47",
        "outputId": "4a487bb5-10ac-4232-af7e-65bd03f149ee"
      },
      "outputs": [
        {
          "output_type": "stream",
          "name": "stdout",
          "text": [
            "intersection of sets = [5, 6, 7]\n"
          ]
        }
      ],
      "source": [
        "# Answer here \n",
        "x = {1,5,6,7,0,4}\n",
        "y = {5,6,7,9,3,2}\n",
        "intersection=[]\n",
        "for k in x :\n",
        "  if k in y :\n",
        "     intersection.append(k)\n",
        "print (f'intersection of sets = { intersection }')"
      ]
    },
    {
      "cell_type": "markdown",
      "metadata": {
        "id": "xWaAjVxX2W47"
      },
      "source": [
        "## <p style=\"color:orange;\">Q.20 Write a Python program to create a union of sets.</p>\n",
        "> Explanation :In mathematics, The union of two sets A and B is the set of elements which are in A, in B, or in both A and B. "
      ]
    },
    {
      "cell_type": "code",
      "execution_count": null,
      "metadata": {
        "colab": {
          "base_uri": "https://localhost:8080/"
        },
        "id": "2dlxCGUm2W48",
        "outputId": "fa3a9c2b-9c54-4e2a-9023-1de43c4cc9ff"
      },
      "outputs": [
        {
          "output_type": "stream",
          "name": "stdout",
          "text": [
            "union of sets = {0, 1, 2, 3, 4, 5, 6, 7, 9}\n"
          ]
        }
      ],
      "source": [
        "# Answer here \n",
        "x = {1,5,6,7,0,4}\n",
        "y = {5,6,7,9,3,2}\n",
        "union=[]\n",
        "for k in x : \n",
        "   union.append(k)\n",
        "for m in y :\n",
        "  union.append(m)\n",
        "print (f'union of sets = {set(union) }')\n"
      ]
    },
    {
      "cell_type": "markdown",
      "metadata": {
        "id": "3Iy0NpVM2W48"
      },
      "source": [
        "# <center> Thank's for your effort ❤️ </center> "
      ]
    }
  ],
  "metadata": {
    "kernelspec": {
      "display_name": "Python 3",
      "language": "python",
      "name": "python3"
    },
    "language_info": {
      "codemirror_mode": {
        "name": "ipython",
        "version": 3
      },
      "file_extension": ".py",
      "mimetype": "text/x-python",
      "name": "python",
      "nbconvert_exporter": "python",
      "pygments_lexer": "ipython3",
      "version": "3.8.5"
    },
    "colab": {
      "provenance": [],
      "collapsed_sections": []
    }
  },
  "nbformat": 4,
  "nbformat_minor": 0
}
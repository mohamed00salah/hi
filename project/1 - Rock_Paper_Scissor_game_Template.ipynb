{
  "cells": [
    {
      "cell_type": "markdown",
      "metadata": {
        "id": "XFa0etuvf09A"
      },
      "source": [
        "![1_8du96SQUQ0NlWmWvVu20Zw.png](attachment:1_8du96SQUQ0NlWmWvVu20Zw.png)"
      ]
    },
    {
      "cell_type": "markdown",
      "metadata": {
        "id": "XK3fbyUvf09G"
      },
      "source": [
        "### Description \n",
        "> #### In this game, the user gets the first chance to pick the option among Rock, paper and scissors. After that computer select from the remaining two choices(randomly), the winner is decided as per the rules.\n",
        "- Rock vs paper-> paper wins\n",
        "- Rock vs scissor-> Rock wins\n",
        "- paper vs scissor-> scissor wins."
      ]
    },
    {
      "cell_type": "code",
      "source": [
        "def rock_paper_scissor():\n",
        "  print( '''\n",
        "  Rock vs paper    ->  paper wins.\n",
        "  Rock vs scissor  ->  Rock wins.\n",
        "  paper vs scissor ->  scissor wins.\n",
        "  ___________________________________________________________________________________\n",
        "  ''')\n",
        "  from random import choice\n",
        "  play_role = {1:' Rock ' , 2:' Paper ' , 3: ' Scissor '}\n",
        "  while True :\n",
        "    user_choices = input(' Enter your choice : \\n Rock    =  1 \\n Paper   =  2 \\n Scissor =  3 \\n : ')\n",
        "    if user_choices not in ['1','2','3'] :\n",
        "      print(' Please Enter only ( 1 or 2 or 3 )')\n",
        "      continue\n",
        "    choices = [1,2,3]\n",
        "    choices.remove(int(user_choices))\n",
        "    computer_choice = choice(choices)\n",
        "    print(f' your choice is {play_role[int(user_choices)]}')\n",
        "    print(f' computer choice is {play_role[computer_choice]}')\n",
        "    if (computer_choice == 1 and user_choices == '3') or (computer_choice == 2 and user_choices == '1') or (computer_choice == 3 and user_choices == '2') :\n",
        "      print (' You Are Lose ... ')\n",
        "    else:\n",
        "      print(' Congratulations You Are win ..!! ')\n",
        "    again_or_not = input(' Do you need to play again  ( Y or N ) ?? ').strip()\n",
        "    if again_or_not in ['n' , 'N']:\n",
        "      break \n",
        "    elif again_or_not in ['y' , 'Y']:\n",
        "      print('___________________________________________________________________________________')\n",
        "      continue\n",
        "    else :\n",
        "      print(' Error 404 .....!!!')\n",
        "  print('___________________________________________________________________________________')"
      ],
      "metadata": {
        "id": "wHQ7Fsb1Dbrp"
      },
      "execution_count": 33,
      "outputs": []
    },
    {
      "cell_type": "code",
      "source": [
        "rock_paper_scissor()"
      ],
      "metadata": {
        "colab": {
          "base_uri": "https://localhost:8080/"
        },
        "id": "YC6CIZyLMYpJ",
        "outputId": "a2f2e007-cdd1-42e8-ac9a-4f5e7d6c1a01"
      },
      "execution_count": 34,
      "outputs": [
        {
          "output_type": "stream",
          "name": "stdout",
          "text": [
            "\n",
            "  Rock vs paper    ->  paper wins.\n",
            "  Rock vs scissor  ->  Rock wins.\n",
            "  paper vs scissor ->  scissor wins.\n",
            "  ___________________________________________________________________________________\n",
            "  \n",
            " Enter your choice : \n",
            " Rock    =  1 \n",
            " Paper   =  2 \n",
            " Scissor =  3 \n",
            " : 1\n",
            " your choice is  Rock \n",
            " computer choice is  Paper \n",
            " You Are Lose ... \n",
            " Do you need to play again  ( Y or N ) ?? y\n",
            "___________________________________________________________________________________\n",
            " Enter your choice : \n",
            " Rock    =  1 \n",
            " Paper   =  2 \n",
            " Scissor =  3 \n",
            " : 3\n",
            " your choice is  Scissor \n",
            " computer choice is  Rock \n",
            " You Are Lose ... \n",
            " Do you need to play again  ( Y or N ) ?? n\n",
            "___________________________________________________________________________________\n"
          ]
        }
      ]
    },
    {
      "cell_type": "code",
      "source": [
        "1"
      ],
      "metadata": {
        "id": "yaAQ3AVBRLAM"
      },
      "execution_count": null,
      "outputs": []
    }
  ],
  "metadata": {
    "kernelspec": {
      "display_name": "Python 3",
      "language": "python",
      "name": "python3"
    },
    "language_info": {
      "codemirror_mode": {
        "name": "ipython",
        "version": 3
      },
      "file_extension": ".py",
      "mimetype": "text/x-python",
      "name": "python",
      "nbconvert_exporter": "python",
      "pygments_lexer": "ipython3",
      "version": "3.8.5"
    },
    "colab": {
      "provenance": []
    }
  },
  "nbformat": 4,
  "nbformat_minor": 0
}
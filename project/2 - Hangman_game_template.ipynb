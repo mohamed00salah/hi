{
  "cells": [
    {
      "cell_type": "markdown",
      "metadata": {
        "id": "st_5Ic9k9oZa"
      },
      "source": [
        "## Description\n",
        "> ##### The Hangman program randomly selects a secret word from a list of secret words.\n",
        "> ##### The Game: Here, a random word (a fruit name) is picked up from our collection and the player gets limited chances to win the game.\n",
        "> ##### When a letter in that word is guessed correctly, that letter position in the word is made visible. In this way,all letters of the word are to be guessed before all the chances are over.\n",
        "> ##### For convenience, we have given length of word + 2 chances. For example, word to be guessed is mango, then user gets 5 + 2 = 7 chances, as mango is a five letter word."
      ]
    },
    {
      "cell_type": "code",
      "source": [
        "def Hangman_game():\n",
        "  print('--------------------------------------------------------------------------')\n",
        "  while True :\n",
        "    from random import choice\n",
        "    fruits = ['apple' , 'banana','peache','watermelon','pineapple','mango']\n",
        "    play_fruit = choice(fruits)\n",
        "    wordd = list('-' * len(play_fruit))\n",
        "    word = ' '.join(wordd)\n",
        "    print(f\" your word is : {word} have {len(play_fruit)} Letters --  hint : it's a fruit --\")\n",
        "    chance = len(play_fruit)+2\n",
        "    while chance >= 0 :\n",
        "      letter=input('Enter letter : ')\n",
        "      letter.lower()\n",
        "      word = ' '.join(wordd)\n",
        "      \n",
        "      if  not(letter.isalpha()) :\n",
        "        print(' please enter only letter ')\n",
        "        continue\n",
        "      elif len(letter) >1 :\n",
        "        print('please enter only single letter ')\n",
        "        continue\n",
        "      elif chance == 1 :\n",
        "        print(f' you are lose the word is : {play_fruit}')\n",
        "        break\n",
        "      elif letter in  wordd:\n",
        "        print(' you are take this before ')\n",
        "        continue\n",
        "      elif letter in play_fruit:\n",
        "        for i,leter in enumerate(play_fruit):\n",
        "          if letter ==leter:\n",
        "            wordd[i]= leter\n",
        "            word = ' '.join(wordd)\n",
        "        if word.replace(' ','') == play_fruit:\n",
        "          print(f' congratulation you win ... the word is : {word}')\n",
        "          break\n",
        "        print(f' true anser now the word is : {word}')\n",
        "        continue\n",
        "      else :\n",
        "        print(' wrong answer ')\n",
        "        chance-=1\n",
        "        print(f'now your chance is : {chance}')\n",
        "        continue\n",
        "      \n",
        "    again_or_not = input('do you need to play again ??  (Y or N )').strip()\n",
        "    if again_or_not in ['n' , 'N'] :\n",
        "      print('--------------------------------------------------------------------------')\n",
        "      break\n",
        "    elif again_or_not in ['y' , 'Y'] :\n",
        "      print('--------------------------------------------------------------------------')\n",
        "      continue\n",
        "\n",
        "    else :\n",
        "      print('Error 404 ...... !! ')\n",
        "      print('--------------------------------------------------------------------------')\n",
        "      break\n",
        "      \n"
      ],
      "metadata": {
        "id": "9bCd5ppaJxnz"
      },
      "execution_count": 53,
      "outputs": []
    },
    {
      "cell_type": "code",
      "source": [
        "Hangman_game()"
      ],
      "metadata": {
        "id": "N3bCQNr7bdqx",
        "outputId": "5914e477-8967-4122-d814-651a52f188b8",
        "colab": {
          "base_uri": "https://localhost:8080/"
        }
      },
      "execution_count": 54,
      "outputs": [
        {
          "output_type": "stream",
          "name": "stdout",
          "text": [
            "--------------------------------------------------------------------------\n",
            " your word is : - - - - - - have 6 Letters --  hint : it's a fruit --\n",
            "Enter letter : a\n",
            " true anser now the word is : - a - a - a\n",
            "Enter letter : p\n",
            " wrong answer \n",
            "now your chance is : 7\n",
            "Enter letter : b\n",
            " true anser now the word is : b a - a - a\n",
            "Enter letter : n\n",
            " congratulation you win ... the word is : b a n a n a\n",
            "do you need to play again ??  (Y or N )n\n",
            "--------------------------------------------------------------------------\n"
          ]
        }
      ]
    },
    {
      "cell_type": "code",
      "source": [
        "p"
      ],
      "metadata": {
        "id": "lZfBPf00aqYK"
      },
      "execution_count": null,
      "outputs": []
    }
  ],
  "metadata": {
    "kernelspec": {
      "display_name": "Python 3",
      "language": "python",
      "name": "python3"
    },
    "language_info": {
      "codemirror_mode": {
        "name": "ipython",
        "version": 3
      },
      "file_extension": ".py",
      "mimetype": "text/x-python",
      "name": "python",
      "nbconvert_exporter": "python",
      "pygments_lexer": "ipython3",
      "version": "3.8.5"
    },
    "colab": {
      "provenance": []
    }
  },
  "nbformat": 4,
  "nbformat_minor": 0
}
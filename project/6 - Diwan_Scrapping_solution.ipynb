{
  "cells": [
    {
      "cell_type": "markdown",
      "metadata": {
        "id": "aOejuELQkY8E"
      },
      "source": [
        "::### Go To https://diwanegypt.com/  and Start scrapping  books"
      ]
    },
    {
      "cell_type": "code",
      "execution_count": 1,
      "metadata": {
        "id": "vn6stNT2kY8I"
      },
      "outputs": [],
      "source": [
        "import requests\n",
        "import csv\n",
        "from bs4 import BeautifulSoup"
      ]
    },
    {
      "cell_type": "code",
      "source": [
        "response = requests.get(\"https://diwanegypt.com/product-category/books/english-books\")\n",
        "soup = BeautifulSoup(response.text, 'html.parser')"
      ],
      "metadata": {
        "id": "b3GjX1mKyuCq"
      },
      "execution_count": 2,
      "outputs": []
    },
    {
      "cell_type": "code",
      "source": [
        "page_numbers = soup.find_all('a', attrs={'class': 'page-numbers'})[-2].get_text()"
      ],
      "metadata": {
        "id": "WI3rKs_chu57"
      },
      "execution_count": 3,
      "outputs": []
    },
    {
      "cell_type": "code",
      "source": [
        "page_numbers = int(page_numbers)"
      ],
      "metadata": {
        "id": "4WQYLKA6iIVd"
      },
      "execution_count": 4,
      "outputs": []
    },
    {
      "cell_type": "code",
      "source": [
        "page_numbers"
      ],
      "metadata": {
        "colab": {
          "base_uri": "https://localhost:8080/"
        },
        "id": "IMG0db0VjWNf",
        "outputId": "7d8f8b0f-e075-4726-e3dd-d0ef03e34803"
      },
      "execution_count": 5,
      "outputs": [
        {
          "output_type": "execute_result",
          "data": {
            "text/plain": [
              "245"
            ]
          },
          "metadata": {},
          "execution_count": 5
        }
      ]
    },
    {
      "cell_type": "code",
      "source": [
        "data = []\n",
        "\n",
        "for page in range(1, page_numbers+1):\n",
        "  print(f\"Current page: {page}\")\n",
        "  response = requests.get(f\"https://diwanegypt.com/product-category/books/english-books/page/{page}/\")\n",
        "  soup = BeautifulSoup(response.text, 'html.parser')\n",
        "  all_books = soup.find_all('a', attrs={'class': 'woocommerce-LoopProduct-link woocommerce-loop-product__link'})\n",
        "  for book in all_books:\n",
        "    img_url = book.find('img').get('src')\n",
        "    book_name = book.find('h2').get_text()\n",
        "    author_name = book.find('span', attrs={'class': 'author'}).get_text()\n",
        "    price = book.find('span', attrs={'class': 'price'}).find('bdi').get_text()\n",
        "    \n",
        "\n",
        "    data.append([\n",
        "        book_name, author_name, price, img_url\n",
        "    ])\n",
        "\n",
        "\n",
        "\n",
        "  "
      ],
      "metadata": {
        "id": "MH615O5ky8JB",
        "colab": {
          "base_uri": "https://localhost:8080/"
        },
        "outputId": "01484bec-2961-4b02-d27e-8c3571078151"
      },
      "execution_count": 6,
      "outputs": [
        {
          "output_type": "stream",
          "name": "stdout",
          "text": [
            "Current page: 1\n",
            "Current page: 2\n",
            "Current page: 3\n",
            "Current page: 4\n",
            "Current page: 5\n",
            "Current page: 6\n",
            "Current page: 7\n",
            "Current page: 8\n",
            "Current page: 9\n",
            "Current page: 10\n",
            "Current page: 11\n",
            "Current page: 12\n",
            "Current page: 13\n",
            "Current page: 14\n",
            "Current page: 15\n",
            "Current page: 16\n",
            "Current page: 17\n",
            "Current page: 18\n",
            "Current page: 19\n",
            "Current page: 20\n",
            "Current page: 21\n",
            "Current page: 22\n",
            "Current page: 23\n",
            "Current page: 24\n",
            "Current page: 25\n",
            "Current page: 26\n",
            "Current page: 27\n",
            "Current page: 28\n",
            "Current page: 29\n",
            "Current page: 30\n",
            "Current page: 31\n",
            "Current page: 32\n",
            "Current page: 33\n",
            "Current page: 34\n",
            "Current page: 35\n",
            "Current page: 36\n",
            "Current page: 37\n",
            "Current page: 38\n",
            "Current page: 39\n",
            "Current page: 40\n",
            "Current page: 41\n",
            "Current page: 42\n",
            "Current page: 43\n",
            "Current page: 44\n",
            "Current page: 45\n",
            "Current page: 46\n",
            "Current page: 47\n",
            "Current page: 48\n",
            "Current page: 49\n",
            "Current page: 50\n",
            "Current page: 51\n",
            "Current page: 52\n",
            "Current page: 53\n",
            "Current page: 54\n",
            "Current page: 55\n",
            "Current page: 56\n",
            "Current page: 57\n",
            "Current page: 58\n",
            "Current page: 59\n",
            "Current page: 60\n",
            "Current page: 61\n",
            "Current page: 62\n",
            "Current page: 63\n",
            "Current page: 64\n",
            "Current page: 65\n",
            "Current page: 66\n",
            "Current page: 67\n",
            "Current page: 68\n",
            "Current page: 69\n",
            "Current page: 70\n",
            "Current page: 71\n",
            "Current page: 72\n",
            "Current page: 73\n",
            "Current page: 74\n",
            "Current page: 75\n",
            "Current page: 76\n",
            "Current page: 77\n",
            "Current page: 78\n",
            "Current page: 79\n",
            "Current page: 80\n",
            "Current page: 81\n",
            "Current page: 82\n",
            "Current page: 83\n",
            "Current page: 84\n",
            "Current page: 85\n",
            "Current page: 86\n",
            "Current page: 87\n",
            "Current page: 88\n",
            "Current page: 89\n",
            "Current page: 90\n",
            "Current page: 91\n",
            "Current page: 92\n",
            "Current page: 93\n",
            "Current page: 94\n",
            "Current page: 95\n",
            "Current page: 96\n",
            "Current page: 97\n",
            "Current page: 98\n",
            "Current page: 99\n",
            "Current page: 100\n",
            "Current page: 101\n",
            "Current page: 102\n",
            "Current page: 103\n",
            "Current page: 104\n",
            "Current page: 105\n",
            "Current page: 106\n",
            "Current page: 107\n",
            "Current page: 108\n",
            "Current page: 109\n",
            "Current page: 110\n",
            "Current page: 111\n",
            "Current page: 112\n",
            "Current page: 113\n",
            "Current page: 114\n",
            "Current page: 115\n",
            "Current page: 116\n",
            "Current page: 117\n",
            "Current page: 118\n",
            "Current page: 119\n",
            "Current page: 120\n",
            "Current page: 121\n",
            "Current page: 122\n",
            "Current page: 123\n",
            "Current page: 124\n",
            "Current page: 125\n",
            "Current page: 126\n",
            "Current page: 127\n",
            "Current page: 128\n",
            "Current page: 129\n",
            "Current page: 130\n",
            "Current page: 131\n",
            "Current page: 132\n",
            "Current page: 133\n",
            "Current page: 134\n",
            "Current page: 135\n",
            "Current page: 136\n",
            "Current page: 137\n",
            "Current page: 138\n",
            "Current page: 139\n",
            "Current page: 140\n",
            "Current page: 141\n",
            "Current page: 142\n",
            "Current page: 143\n",
            "Current page: 144\n",
            "Current page: 145\n",
            "Current page: 146\n",
            "Current page: 147\n",
            "Current page: 148\n",
            "Current page: 149\n",
            "Current page: 150\n",
            "Current page: 151\n",
            "Current page: 152\n",
            "Current page: 153\n",
            "Current page: 154\n",
            "Current page: 155\n",
            "Current page: 156\n",
            "Current page: 157\n",
            "Current page: 158\n",
            "Current page: 159\n",
            "Current page: 160\n",
            "Current page: 161\n",
            "Current page: 162\n",
            "Current page: 163\n",
            "Current page: 164\n",
            "Current page: 165\n",
            "Current page: 166\n",
            "Current page: 167\n",
            "Current page: 168\n",
            "Current page: 169\n",
            "Current page: 170\n",
            "Current page: 171\n",
            "Current page: 172\n",
            "Current page: 173\n",
            "Current page: 174\n",
            "Current page: 175\n",
            "Current page: 176\n",
            "Current page: 177\n",
            "Current page: 178\n",
            "Current page: 179\n",
            "Current page: 180\n",
            "Current page: 181\n",
            "Current page: 182\n",
            "Current page: 183\n",
            "Current page: 184\n",
            "Current page: 185\n",
            "Current page: 186\n",
            "Current page: 187\n",
            "Current page: 188\n",
            "Current page: 189\n",
            "Current page: 190\n",
            "Current page: 191\n",
            "Current page: 192\n",
            "Current page: 193\n",
            "Current page: 194\n",
            "Current page: 195\n",
            "Current page: 196\n",
            "Current page: 197\n",
            "Current page: 198\n",
            "Current page: 199\n",
            "Current page: 200\n",
            "Current page: 201\n",
            "Current page: 202\n",
            "Current page: 203\n",
            "Current page: 204\n",
            "Current page: 205\n",
            "Current page: 206\n",
            "Current page: 207\n",
            "Current page: 208\n",
            "Current page: 209\n",
            "Current page: 210\n",
            "Current page: 211\n",
            "Current page: 212\n",
            "Current page: 213\n",
            "Current page: 214\n",
            "Current page: 215\n",
            "Current page: 216\n",
            "Current page: 217\n",
            "Current page: 218\n",
            "Current page: 219\n",
            "Current page: 220\n",
            "Current page: 221\n",
            "Current page: 222\n",
            "Current page: 223\n",
            "Current page: 224\n",
            "Current page: 225\n",
            "Current page: 226\n",
            "Current page: 227\n",
            "Current page: 228\n",
            "Current page: 229\n",
            "Current page: 230\n",
            "Current page: 231\n",
            "Current page: 232\n",
            "Current page: 233\n",
            "Current page: 234\n",
            "Current page: 235\n",
            "Current page: 236\n",
            "Current page: 237\n",
            "Current page: 238\n",
            "Current page: 239\n",
            "Current page: 240\n",
            "Current page: 241\n",
            "Current page: 242\n",
            "Current page: 243\n",
            "Current page: 244\n",
            "Current page: 245\n"
          ]
        }
      ]
    },
    {
      "cell_type": "code",
      "source": [
        "with open('books.csv', 'w') as fid:\n",
        "  writer = csv.writer(fid)\n",
        "  header = ['book_name', 'author_name', 'price', 'img_url']\n",
        "  writer.writerow(header)\n",
        "  writer.writerows(data)"
      ],
      "metadata": {
        "id": "RbGr6Kbp0FhQ"
      },
      "execution_count": 7,
      "outputs": []
    },
    {
      "cell_type": "code",
      "source": [],
      "metadata": {
        "id": "LDw0Rd0al9nn"
      },
      "execution_count": 7,
      "outputs": []
    }
  ],
  "metadata": {
    "kernelspec": {
      "display_name": "Python 3",
      "language": "python",
      "name": "python3"
    },
    "language_info": {
      "codemirror_mode": {
        "name": "ipython",
        "version": 3
      },
      "file_extension": ".py",
      "mimetype": "text/x-python",
      "name": "python",
      "nbconvert_exporter": "python",
      "pygments_lexer": "ipython3",
      "version": "3.8.5"
    },
    "colab": {
      "provenance": [],
      "collapsed_sections": []
    }
  },
  "nbformat": 4,
  "nbformat_minor": 0
}
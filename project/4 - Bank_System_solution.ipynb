{
  "cells": [
    {
      "cell_type": "markdown",
      "metadata": {
        "id": "zx8abkITHCwu"
      },
      "source": [
        "![image.png](attachment:image.png)"
      ]
    },
    {
      "cell_type": "markdown",
      "metadata": {
        "id": "VcVSo9kzHCxH"
      },
      "source": [
        "> ###  The Central Bank contacted our technical team and asked it to develop a program suitable for all banks, with the addition of some advantages for certain banks"
      ]
    },
    {
      "cell_type": "markdown",
      "metadata": {
        "id": "-7XiAaIEHCxK"
      },
      "source": [
        "# Task 1 : \n",
        "- #### task 1.1 Make Class(User) with attributes:\n",
        "    - name \n",
        "    - age \n",
        "    - gender \n",
        "    - balance\n",
        "- #### task 1.2 Make method to show previous data "
      ]
    },
    {
      "cell_type": "code",
      "source": [
        "class User:\n",
        "\n",
        "  def __init__(self, name , age , gender, balance):\n",
        "    self.name = name\n",
        "    self.age = age\n",
        "    self.gender = gender\n",
        "    self.balance = balance\n",
        "\n",
        "  def show_data(self):\n",
        "    print(f\"Name: {self.name}\") \n",
        "    print(f\"Age: {self.age}\")\n",
        "    print(f\"Gender: {self.gender}\")\n",
        "    print(f\"Balance: {self.balance}\") \n"
      ],
      "metadata": {
        "id": "5uFf7KYRHMnP"
      },
      "execution_count": 1,
      "outputs": []
    },
    {
      "cell_type": "code",
      "source": [
        "user1 = User(\"Ahmed\", 25, \"male\", 1000)"
      ],
      "metadata": {
        "id": "GAv1vojcdgJZ"
      },
      "execution_count": 2,
      "outputs": []
    },
    {
      "cell_type": "code",
      "source": [
        "user1.show_data()"
      ],
      "metadata": {
        "colab": {
          "base_uri": "https://localhost:8080/"
        },
        "id": "q84PFNuhd38J",
        "outputId": "10f30399-15e5-42ce-f438-37e6ced8cf1b"
      },
      "execution_count": 3,
      "outputs": [
        {
          "output_type": "stream",
          "name": "stdout",
          "text": [
            "Name: Ahmed\n",
            "Age: 25\n",
            "Gender: male\n",
            "Balance: 1000\n"
          ]
        }
      ]
    },
    {
      "cell_type": "markdown",
      "metadata": {
        "id": "Xub083qUHCxZ"
      },
      "source": [
        "# Task 2 : \n",
        "- Make Child Class(Bank) which inherite from Class(user) with Mehods:\n",
        "    - #### task 2.1 deposite : which take parameter(amount) and add it to balance and print new balance.  \n",
        "    - #### task 2.2 withdraw : which take parameter(amount) and check if user have enough money. \n",
        "    - #### task 2.3 view balance : to show current balance. \n"
      ]
    },
    {
      "cell_type": "code",
      "source": [
        "class Bank(User):\n",
        "\n",
        "  def __init__(self, name, age, gender, balance, bank_name):\n",
        "    if self.__validate_number(balance):\n",
        "      super(Bank, self).__init__(name, age, gender, balance)\n",
        "      self.bank_name = bank_name\n",
        "    else:\n",
        "      raise Exception(\" Amount should be positive\")\n",
        "\n",
        "\n",
        "  def __validate_number(self, number):\n",
        "    return number >= 0\n",
        "\n",
        "  def show_data(self):\n",
        "    super(Bank, self).show_data()\n",
        "    print(f\"Bank Name: {self.bank_name}\") \n",
        "\n",
        "\n",
        "  def deposite(self, amount):\n",
        "    if self.__validate_number(amount):\n",
        "       self.balance = self.balance + amount\n",
        "       print(f\"Current balance: {self.show_balance()}\")\n",
        "    else:\n",
        "       raise Exception(\" Amount should be positive\")\n",
        "\n",
        "  def show_balance(self):\n",
        "    return self.balance\n",
        "\n",
        "\n",
        "  def withdraw(self, amount):\n",
        "     if self.__validate_number(amount):\n",
        "        if amount > self.balance:\n",
        "          print(\"Not enough money\")\n",
        "        else:\n",
        "          self.balance -= amount \n",
        "          print(f\"Current balance: {self.show_balance()}\")\n",
        "     else:\n",
        "        raise Exception(\" Amount should be positive\")\n",
        "      \n",
        "\n"
      ],
      "metadata": {
        "id": "pbtgSsZJHQMT"
      },
      "execution_count": 4,
      "outputs": []
    },
    {
      "cell_type": "code",
      "source": [
        "bank1 = Bank(\"Ahmed\", 25, \"male\", 1000, 'HSBC')"
      ],
      "metadata": {
        "id": "tlMmY6IYfUa-"
      },
      "execution_count": 5,
      "outputs": []
    },
    {
      "cell_type": "code",
      "source": [
        "bank1.show_data()"
      ],
      "metadata": {
        "colab": {
          "base_uri": "https://localhost:8080/"
        },
        "id": "zodYVSDPfaSv",
        "outputId": "2cbd9c17-59d8-4371-d105-f277545941d5"
      },
      "execution_count": 6,
      "outputs": [
        {
          "output_type": "stream",
          "name": "stdout",
          "text": [
            "Name: Ahmed\n",
            "Age: 25\n",
            "Gender: male\n",
            "Balance: 1000\n",
            "Bank Name: HSBC\n"
          ]
        }
      ]
    },
    {
      "cell_type": "code",
      "source": [
        "bank1.withdraw(1500)"
      ],
      "metadata": {
        "colab": {
          "base_uri": "https://localhost:8080/"
        },
        "id": "_kcLMShyjTVX",
        "outputId": "c4121b1b-2988-4c0f-efb7-351696c0ab0b"
      },
      "execution_count": 7,
      "outputs": [
        {
          "output_type": "stream",
          "name": "stdout",
          "text": [
            "Not enough money\n"
          ]
        }
      ]
    },
    {
      "cell_type": "code",
      "source": [
        "bank1.balance"
      ],
      "metadata": {
        "colab": {
          "base_uri": "https://localhost:8080/"
        },
        "id": "CipUKMC0gZpX",
        "outputId": "44c78823-60f6-44ab-8263-f5c44779e8ab"
      },
      "execution_count": 8,
      "outputs": [
        {
          "output_type": "execute_result",
          "data": {
            "text/plain": [
              "1000"
            ]
          },
          "metadata": {},
          "execution_count": 8
        }
      ]
    },
    {
      "cell_type": "code",
      "source": [
        "bank1.deposite(1000)"
      ],
      "metadata": {
        "colab": {
          "base_uri": "https://localhost:8080/"
        },
        "id": "GjyFk6SqiXPt",
        "outputId": "6ba4082d-feb9-4fe7-8105-0f45c361912f"
      },
      "execution_count": 9,
      "outputs": [
        {
          "output_type": "stream",
          "name": "stdout",
          "text": [
            "Current balance: 2000\n"
          ]
        }
      ]
    },
    {
      "cell_type": "code",
      "source": [
        "bank1.balance"
      ],
      "metadata": {
        "colab": {
          "base_uri": "https://localhost:8080/"
        },
        "id": "ei4-OHKJigMU",
        "outputId": "bbf5b928-f829-4cb7-b632-139fe7e557cd"
      },
      "execution_count": 10,
      "outputs": [
        {
          "output_type": "execute_result",
          "data": {
            "text/plain": [
              "2000"
            ]
          },
          "metadata": {},
          "execution_count": 10
        }
      ]
    },
    {
      "cell_type": "markdown",
      "metadata": {
        "id": "frK7xOJ9HCxq"
      },
      "source": [
        "# Task 3 : \n",
        "- #### task 3.1 Make Child Class(CIB) which inherite from Class(Bank) with Mehods:\n",
        "    -   Loan application: which take parameter(amount) and  (Duration) >> max loan is one million\n",
        "- #### task 3.2 Make Child Class(QNB) which inherite from Class(Bank) with Mehods:\n",
        "    -   Loan application: which take parameter(amount) and  (Duration) >> max loan is one 2 million"
      ]
    },
    {
      "cell_type": "code",
      "source": [
        "class CIB(Bank):\n",
        "\n",
        "  def loan_application(self, amount, duration):\n",
        "    if self.__validate_number(amount):\n",
        "      if amount > 1000000:\n",
        "        print(\"Sorry max loan is 1 million\")\n",
        "\n",
        "      else:\n",
        "        print(\"Your application is under review\")\n",
        "    else :\n",
        "      raise Exception(\" Amount should be positive\")\n",
        "\n",
        "class QNB(Bank):\n",
        "\n",
        "  def loan_application(self, amount, duration):\n",
        "    if self.__validate_number(amount):\n",
        "      if amount > 2000000:\n",
        "        print(\"Sorry max loan is 2 million\")\n",
        "\n",
        "      else:\n",
        "        print(\"Your application is under review\")\n",
        "    else :\n",
        "      raise Exception(\" Amount should be positive\")\n"
      ],
      "metadata": {
        "id": "b4X0Ho2iHRsb"
      },
      "execution_count": 11,
      "outputs": []
    },
    {
      "cell_type": "code",
      "source": [
        "cib_user = CIB(\"Ahmed\", 25, \"male\", 1000, 'CIB')"
      ],
      "metadata": {
        "id": "Sny9xOW1mD1V"
      },
      "execution_count": null,
      "outputs": []
    },
    {
      "cell_type": "code",
      "source": [
        "cib_user.loan_application(2000000, 15)"
      ],
      "metadata": {
        "colab": {
          "base_uri": "https://localhost:8080/"
        },
        "id": "oJshuacgmNnh",
        "outputId": "5c250993-9c5f-41c5-91f4-e71674432704"
      },
      "execution_count": null,
      "outputs": [
        {
          "output_type": "stream",
          "name": "stdout",
          "text": [
            "Sorry max loan is 1 million\n"
          ]
        }
      ]
    },
    {
      "cell_type": "code",
      "source": [
        "qnb_user = QNB(\"Ahmed\", 25, \"male\", 1000, 'QNB')"
      ],
      "metadata": {
        "id": "ntFFYoBZmUey"
      },
      "execution_count": null,
      "outputs": []
    },
    {
      "cell_type": "code",
      "source": [
        "qnb_user.loan_application(2500000, 15)"
      ],
      "metadata": {
        "colab": {
          "base_uri": "https://localhost:8080/"
        },
        "id": "WRN6VPGVmp_q",
        "outputId": "9fc64ec7-71fb-41c6-ff72-acb21cccf155"
      },
      "execution_count": null,
      "outputs": [
        {
          "output_type": "stream",
          "name": "stdout",
          "text": [
            "Sorry max loan is 2 million\n"
          ]
        }
      ]
    },
    {
      "cell_type": "code",
      "source": [],
      "metadata": {
        "id": "2ocJyc5JpbTU"
      },
      "execution_count": null,
      "outputs": []
    }
  ],
  "metadata": {
    "kernelspec": {
      "display_name": "Python 3",
      "language": "python",
      "name": "python3"
    },
    "language_info": {
      "codemirror_mode": {
        "name": "ipython",
        "version": 3
      },
      "file_extension": ".py",
      "mimetype": "text/x-python",
      "name": "python",
      "nbconvert_exporter": "python",
      "pygments_lexer": "ipython3",
      "version": "3.8.5"
    },
    "colab": {
      "provenance": []
    }
  },
  "nbformat": 4,
  "nbformat_minor": 0
}
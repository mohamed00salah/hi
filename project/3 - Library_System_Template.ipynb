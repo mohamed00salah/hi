{
  "cells": [
    {
      "cell_type": "markdown",
      "metadata": {
        "id": "ZfGb-k7Polpl"
      },
      "source": [
        "![image.png](attachment:image.png)"
      ]
    },
    {
      "cell_type": "markdown",
      "metadata": {
        "id": "t_VqEXVkolpq"
      },
      "source": [
        "> ### Harry works in the library, Harry is tired of writing data in paper records so Harry decides to go digital.\n",
        "> ### Harry wants a program to do all the operations in the library.\n",
        "> ### Let's help Harry!"
      ]
    },
    {
      "cell_type": "markdown",
      "metadata": {
        "id": "KKjrGUS3olps"
      },
      "source": [
        "# Task 1 : \n",
        "- #### task 1.1 Make Class(Library) with attributes:\n",
        "    - booksList  \n",
        "    - name of lirary  \n",
        "    - lended books (name of user, book) \n",
        "- #### task 1.2 Make method to display available Books.\n",
        "- #### task 1.3 Make method for books lending.\n",
        "    - Don't forget to check if book isn't already lended \n",
        "- #### task 1.4 Make method to add Book to library.\n",
        "- #### task 1.5 Make method to return borrowed book."
      ]
    },
    {
      "cell_type": "code",
      "execution_count": 18,
      "metadata": {
        "id": "XH8nuKiColpv"
      },
      "outputs": [],
      "source": [
        "class Library:\n",
        "  def __init__( self , bookList=[] , nameOfLibrary = '' ):\n",
        "    self.bookList = bookList\n",
        "    self.nameOfLibrary = nameOfLibrary\n",
        "    self.lendedBooks = {}\n",
        "  def display_book(self):\n",
        "    for book in self.bookList :\n",
        "      if book not in self.lendedBooks.keys():\n",
        "        print(f'Book : {book} -- is not lended ')\n",
        "      else:\n",
        "        print(f'Book : {book}  -- is lended ')\n",
        "  def lending_book(self , name = '', book = '' ):\n",
        "    if book in self.lendedBooks.keys():\n",
        "      print(f' sorry Book : {book} is lended ')\n",
        "    else:\n",
        "      self.lendedBooks[book]=name\n",
        "      print(f' ok {name} is lend Book {book} now ')\n",
        "  def add_book(self , book = ''):\n",
        "    if book in self.bookList:\n",
        "      print(f' Book : {book} is already exists ')\n",
        "    else :\n",
        "      self.bookList.append(book)\n",
        "      print(f' Book : {book} is added')\n",
        "  def return_borrow_book( self , book= '' ) :\n",
        "    if book in self.lendedBooks.keys():\n",
        "      print(f' Ok {self.lendedBooks[book]} Thanks For Return The Book : {book}')\n",
        "      self.lendedBooks.pop(book)\n",
        "    else:\n",
        "      print(' This Book is not Lended ')"
      ]
    },
    {
      "cell_type": "markdown",
      "metadata": {
        "id": "CzeQgVknolpx"
      },
      "source": [
        "# Task 2 : \n",
        "- #### task 2.1 Make object(Harry) with attributes:\n",
        "    - booksList  = ['Python', 'Rich Daddy Poor Daddy', 'Harry Potter', 'C++ Basics', 'Algorithms by CLRS']\n",
        "    - name of lirary  = \"CodeWithHarry\"\n",
        "- #### task 2.2 Make program run with this choices. __(Don't forget the welcome message)__\n",
        "    - 1. Display Books\n",
        "    - 2. Lend a Book\n",
        "    - 3. Add a Book\n",
        "    - 4. Return a Book\n",
        "- #### task 2.3 Make prgram ends or continue."
      ]
    },
    {
      "cell_type": "code",
      "execution_count": 20,
      "metadata": {
        "id": "6Cdqs24Aolp0",
        "colab": {
          "base_uri": "https://localhost:8080/"
        },
        "outputId": "982c4578-3a93-44b8-861a-f044729847e3"
      },
      "outputs": [
        {
          "name": "stdout",
          "output_type": "stream",
          "text": [
            "Welcome to CodeWithHarry, please enter your choice\n",
            "\n",
            "  Choose (1) to display books\n",
            "  Choose (2) to lend a book\n",
            "  Choose (3) to add a book\n",
            "  Choose (4) to return a book\n",
            "  \n",
            "1\n",
            "          display books          \n",
            "Book : Python -- is not lended \n",
            "Book : Rich Daddy Poor Daddy -- is not lended \n",
            "Book : Harry Potter -- is not lended \n",
            "Book : C++ Basics -- is not lended \n",
            "Book : Algorithms by CLRS -- is not lended \n",
            "---------------------------------\n",
            "Do you want to quit? (q)z\n",
            "Welcome to CodeWithHarry, please enter your choice\n",
            "\n",
            "  Choose (1) to display books\n",
            "  Choose (2) to lend a book\n",
            "  Choose (3) to add a book\n",
            "  Choose (4) to return a book\n",
            "  \n",
            "2\n",
            "           lend a book           \n",
            "Please enter the name of the book you want to borrowHarry Potter\n",
            "Please enter your namemo\n",
            " ok mo is lend Book Harry Potter now \n",
            "---------------------------------\n",
            "Do you want to quit? (q)n\n",
            "Welcome to CodeWithHarry, please enter your choice\n",
            "\n",
            "  Choose (1) to display books\n",
            "  Choose (2) to lend a book\n",
            "  Choose (3) to add a book\n",
            "  Choose (4) to return a book\n",
            "  \n",
            "4\n",
            "           return a book         \n",
            "Please enter the name of the book you want to return: Harry Potter\n",
            " Ok mo Thanks For Return The Book : Harry Potter\n",
            "---------------------------------\n",
            "Do you want to quit? (q)q\n"
          ]
        }
      ],
      "source": [
        "harry = Library(\n",
        "    ['Python', 'Rich Daddy Poor Daddy', 'Harry Potter', 'C++ Basics', 'Algorithms by CLRS'],\n",
        "    'CodeWithHarry'\n",
        ")\n",
        "\n",
        "\n",
        "while True:\n",
        "  print(f\"Welcome to {harry.nameOfLibrary}, please enter your choice\")\n",
        "  print(\"\"\"\n",
        "  Choose (1) to display books\n",
        "  Choose (2) to lend a book\n",
        "  Choose (3) to add a book\n",
        "  Choose (4) to return a book\n",
        "  \"\"\")\n",
        "\n",
        "  user_choice = input()\n",
        "\n",
        "  if user_choice not in ['1', '2', '3', '4']:\n",
        "    print(\"Please enter a valid option\")\n",
        "    continue\n",
        "  else:\n",
        "    user_choice = int(user_choice)\n",
        "\n",
        "  if user_choice == 1:\n",
        "    print('          Display Books          ')\n",
        "    harry.display_book()\n",
        "    print('---------------------------------')\n",
        "\n",
        "  elif user_choice == 2:\n",
        "    print('           Lend a Book           ')\n",
        "    book = input(\"Please enter the name of the book you want to borrow\")\n",
        "    user = input(\"Please enter your name\")\n",
        "    harry.lending_book(user, book)\n",
        "    print('---------------------------------')\n",
        "\n",
        "  elif user_choice == 3:\n",
        "    print('            Add a Book           ')\n",
        "    book = input(\"Please enter the name of the book you want to add: \")\n",
        "    harry.add_book(book)\n",
        "    print('---------------------------------')\n",
        "  elif user_choice == 4:\n",
        "    print('           Return a Book         ')\n",
        "    book = input(\"Please enter the name of the book you want to return: \")\n",
        "    harry.return_borrow_book(book)\n",
        "    print('---------------------------------')\n",
        "\n",
        "  is_exit = input(\"Do you want to quit? (q)\")\n",
        "  if is_exit == 'q':\n",
        "    break\n",
        "\n"
      ]
    }
  ],
  "metadata": {
    "kernelspec": {
      "display_name": "Python 3",
      "language": "python",
      "name": "python3"
    },
    "language_info": {
      "codemirror_mode": {
        "name": "ipython",
        "version": 3
      },
      "file_extension": ".py",
      "mimetype": "text/x-python",
      "name": "python",
      "nbconvert_exporter": "python",
      "pygments_lexer": "ipython3",
      "version": "3.8.8"
    },
    "colab": {
      "provenance": []
    }
  },
  "nbformat": 4,
  "nbformat_minor": 0
}
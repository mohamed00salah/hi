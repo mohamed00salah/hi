{
  "cells": [
    {
      "cell_type": "markdown",
      "metadata": {
        "id": "-EayRtzIHAVW"
      },
      "source": [
        "> # Dear Epsilon Students, \n",
        "> # The More you practice The better You'll Be."
      ]
    },
    {
      "cell_type": "markdown",
      "metadata": {
        "id": "GfHSyYxvHAVa"
      },
      "source": [
        "### Instructions: \n",
        "- Make sure that you understand this topics before you start.\n",
        "- If you found something hard to do, try and try then google it and finally ask someone. \n",
        "- You can divide this work into daily tasks so that you do not feel pressure.\n",
        "- After you finish, go to model answer and rate yourself. \n",
        "- If you find something ambiguous, Try to make a hypothesis to solve a problem. "
      ]
    },
    {
      "cell_type": "markdown",
      "metadata": {
        "id": "qy_iEfhaHAVb"
      },
      "source": [
        "### Question classification: \n",
        "- Green is level 1 \n",
        "- Orange is level 2 \n",
        "- Red is level 3 "
      ]
    },
    {
      "cell_type": "markdown",
      "metadata": {
        "id": "3dKGk0UXHAVc"
      },
      "source": [
        "# <center> Let's start 💪 </center> "
      ]
    },
    {
      "cell_type": "markdown",
      "metadata": {
        "id": "X0lKjqrPHAVd"
      },
      "source": [
        "## <p style=\"color:green;\">Q.01 Write a function takes a two-word string and returns True if both words begin with same letter</p>\n",
        "> ('Levelheaded Llama') → True\n",
        "\n",
        "> ('Crazy Kangaroo') → False"
      ]
    },
    {
      "cell_type": "code",
      "execution_count": 10,
      "metadata": {
        "colab": {
          "base_uri": "https://localhost:8080/"
        },
        "id": "GmjdzliEHAVe",
        "outputId": "8aaf914a-84f4-4ccb-c66b-769e22eb151f"
      },
      "outputs": [
        {
          "output_type": "stream",
          "name": "stdout",
          "text": [
            "False\n"
          ]
        }
      ],
      "source": [
        "# Answer here \n",
        "def both_words_begin_with_same_letter (text) :\n",
        "  text=text.split(' ')\n",
        "  if text[0][0] == text[-1][0]:\n",
        "      print('True')\n",
        "  else:\n",
        "      print('False')\n",
        "    \n",
        "both_words_begin_with_same_letter('Crazy Kangaroo')"
      ]
    },
    {
      "cell_type": "markdown",
      "metadata": {
        "id": "2eAJdeWDHAVf"
      },
      "source": [
        "## <p style=\"color:green;\">Q.02 Write a function that returns the lesser of two given numbers if both numbers are even, but returns the greater if one or both numbers are odd</p>\n",
        "\n",
        "> (2,4) → 2\n",
        "\n",
        "> (2,5) → 5"
      ]
    },
    {
      "cell_type": "code",
      "execution_count": 26,
      "metadata": {
        "colab": {
          "base_uri": "https://localhost:8080/"
        },
        "id": "-AJg8ldlHAVg",
        "outputId": "cc16b20b-aa0c-486b-f698-a09ddce132d4"
      },
      "outputs": [
        {
          "output_type": "stream",
          "name": "stdout",
          "text": [
            " the greater is : 5\n"
          ]
        }
      ],
      "source": [
        "# Answer here \n",
        "def lesser_or_greater(num1,num2):\n",
        "  for x,y in zip([num1],[num2]):\n",
        "    if x%2==0 and y%2==0 :\n",
        "      print(' the lesser is : {}'.format(x if x<y else y))\n",
        "    else :\n",
        "      print(' the greater is : {}'.format(x if x>y else y))\n",
        "\n",
        "lesser_or_greater(2,5)"
      ]
    },
    {
      "cell_type": "markdown",
      "metadata": {
        "id": "zZ-96eVGHAVi"
      },
      "source": [
        "## <p style=\"color:green;\">Q.03 Write a function that capitalizes the first and fourth letters of a name</p>\n",
        "> ('macdonald') → MacDonald"
      ]
    },
    {
      "cell_type": "code",
      "execution_count": 42,
      "metadata": {
        "colab": {
          "base_uri": "https://localhost:8080/"
        },
        "id": "iOoUwLMKHAVj",
        "outputId": "3910e87e-0350-43aa-a745-dd88e9ba2099"
      },
      "outputs": [
        {
          "output_type": "stream",
          "name": "stdout",
          "text": [
            "MacDonald\n"
          ]
        }
      ],
      "source": [
        "# Answer here \n",
        "def capitalize_first_and_four(string=''):\n",
        "  new_str=[]\n",
        "  for i in range(len(string)):\n",
        "      new_str.append(string[i].upper()) if i == 0 or i == 3 else  new_str.append(string[i]) \n",
        "  new_str=''.join(new_str)\n",
        "  print(new_str)\n",
        "\n",
        "capitalize_first_and_four('macdonald')\n"
      ]
    },
    {
      "cell_type": "markdown",
      "metadata": {
        "id": "7qhRhAykHAVj"
      },
      "source": [
        "## <p style=\"color:green;\">Q.04 Given a sentence, return a sentence with the words reversed</p>\n",
        "> ('I am home') → 'home am I'"
      ]
    },
    {
      "cell_type": "code",
      "execution_count": 54,
      "metadata": {
        "colab": {
          "base_uri": "https://localhost:8080/"
        },
        "id": "sxNeIYVUHAVk",
        "outputId": "c6800224-a8fc-4169-ceb8-19f5d64dd0ca"
      },
      "outputs": [
        {
          "output_type": "stream",
          "name": "stdout",
          "text": [
            "your reverse string is : home am I\n"
          ]
        }
      ],
      "source": [
        "# Answer here \n",
        "def reverse_str(str_=''):\n",
        "  listOfStr_=str_.split(' ')\n",
        "  new_str =' '.join(listOfStr_[::-1])\n",
        "  print(f'your reverse string is : {new_str}')\n",
        "  \n",
        "reverse_str('I am home')"
      ]
    },
    {
      "cell_type": "markdown",
      "metadata": {
        "id": "DzjsUUm9HAVk"
      },
      "source": [
        "## <p style=\"color:orange;\">Q.05 Given a list of ints, return True if the array contains a 3 next to a 3 somewhere.</p>\n",
        "> has_33([1, 3, 3]) → True\n",
        "\n",
        "> has_33([1, 3, 1, 3]) → False\n"
      ]
    },
    {
      "cell_type": "code",
      "execution_count": 68,
      "metadata": {
        "colab": {
          "base_uri": "https://localhost:8080/"
        },
        "id": "MWSeIXs5HAVk",
        "outputId": "efd9ff13-cd56-4666-f768-8ee7e0155925"
      },
      "outputs": [
        {
          "output_type": "stream",
          "name": "stdout",
          "text": [
            "False\n"
          ]
        }
      ],
      "source": [
        "# Answer here \n",
        "def has_33(list=[]):\n",
        "  answer=''\n",
        "  for i in range(len(list)-1):\n",
        "    if list[i] == 3 and list[i+1] == 3 :\n",
        "      answer = 'True'\n",
        "  if answer=='':\n",
        "     answer='False'\n",
        "  print(answer) \n",
        "      \n",
        "has_33([1, 3, 1,3])"
      ]
    },
    {
      "cell_type": "markdown",
      "metadata": {
        "id": "8UkP1I7JHAVl"
      },
      "source": [
        "## <p style=\"color:orange;\">Q.06 BLACKJACK: Given three integers between 1 and 11, if their sum is less than or equal to 21, return their sum. If their sum exceeds 21 and there's an eleven, reduce the total sum by 10. Finally, if the sum (even after adjustment) exceeds 21, return 'BUST'¶</p>\n",
        "\n",
        ">blackjack(5,6,7) → 18\n",
        "\n",
        ">blackjack(9,9,9) → 'BUST'\n",
        "\n",
        ">blackjack(9,9,11) → 19"
      ]
    },
    {
      "cell_type": "code",
      "execution_count": 73,
      "metadata": {
        "colab": {
          "base_uri": "https://localhost:8080/"
        },
        "id": "HPwYK9aoHAVl",
        "outputId": "732d0a3b-160b-46ed-94ec-d928874f297f"
      },
      "outputs": [
        {
          "output_type": "stream",
          "name": "stdout",
          "text": [
            " the sum - 10  = 19\n"
          ]
        }
      ],
      "source": [
        "# Answer here \n",
        "def blackjack(list=[]):                                          #if you need def (x,y,z) we will do list=[x,y,z]\n",
        "  if sum(list) <=21 :\n",
        "    print(f' the sum = {sum(list)}')\n",
        "  elif 11 in list :\n",
        "    print (f' the sum - 10  = {sum(list)-10}')\n",
        "  else:\n",
        "    print('BUST')\n",
        "\n",
        "blackjack([9,9,11])"
      ]
    },
    {
      "cell_type": "markdown",
      "metadata": {
        "id": "BUzZ3UqpHAVm"
      },
      "source": [
        "## <p style=\"color:red;\">Q.07 SUMMER OF '69: Return the sum of the numbers in the array, except ignore sections of numbers starting with a 6 and extending to the next 9 (every 6 will be followed by at least one 9). Return 0 for no numbers.</p>\n",
        ">summer_69([1, 3, 5]) → 9\n",
        "\n",
        ">summer_69([4, 5, 6, 7, 8, 9]) → 9\n",
        "\n",
        ">summer_69([2, 1, 6, 9, 11]) → 14"
      ]
    },
    {
      "cell_type": "code",
      "execution_count": 119,
      "metadata": {
        "colab": {
          "base_uri": "https://localhost:8080/"
        },
        "id": "xwgrm-PgHAVm",
        "outputId": "f0c8689a-6dfa-4c8e-d0a1-91be910f2274"
      },
      "outputs": [
        {
          "output_type": "stream",
          "name": "stdout",
          "text": [
            "14\n"
          ]
        }
      ],
      "source": [
        "# Answer here \n",
        "def summer_69(list=[]):\n",
        "  new_list=0\n",
        "  for i in list :\n",
        "    if i ==6 :\n",
        "      for o in range(list.index(6),list.index(9)+1):\n",
        "          new_list-=list[o]\n",
        "    new_list +=i\n",
        "  print(new_list)\n",
        "summer_69([2, 1, 6, 9, 11])"
      ]
    },
    {
      "cell_type": "markdown",
      "metadata": {
        "id": "Bxn4E8vwHAVm"
      },
      "source": [
        "## <p style=\"color:red;\">Q.08 SPY GAME: Write a function that takes in a list of integers and returns True if it contains 007 in order</p>\n",
        "\n",
        ">spy_game([1,2,4,0,0,7,5]) → True\n",
        "\n",
        "> spy_game([1,0,2,4,0,5,7]) → True\n",
        "\n",
        " >spy_game([1,7,2,0,4,5,0]) → False\n"
      ]
    },
    {
      "cell_type": "code",
      "execution_count": 139,
      "metadata": {
        "colab": {
          "base_uri": "https://localhost:8080/"
        },
        "id": "QhgHIYWuHAVn",
        "outputId": "7138a1ad-67d4-4751-a5a6-28a4053b61e7"
      },
      "outputs": [
        {
          "output_type": "stream",
          "name": "stdout",
          "text": [
            "False\n"
          ]
        }
      ],
      "source": [
        "# Answer here \n",
        "def spy_game(list=[]):\n",
        "  test=[]\n",
        "  for i in list:\n",
        "    if i == 0 or i==7 :\n",
        "      test.append(str(i))\n",
        "  test=''.join(test)\n",
        "  print('True' if test == '007'else 'False')\n",
        "\n",
        "spy_game([1,7,2,0,4,5,0])"
      ]
    },
    {
      "cell_type": "markdown",
      "metadata": {
        "id": "rAzs19SDHAVn"
      },
      "source": [
        "## <p style=\"color:green;\">Q.09 Write a function that checks whether a number is in a given range (inclusive of high and low)</p>\n"
      ]
    },
    {
      "cell_type": "code",
      "execution_count": 152,
      "metadata": {
        "colab": {
          "base_uri": "https://localhost:8080/"
        },
        "id": "6CWZ1a3HHAVn",
        "outputId": "1836bad1-cc3a-444a-c39e-24a547537d6e"
      },
      "outputs": [
        {
          "output_type": "stream",
          "name": "stdout",
          "text": [
            "True\n"
          ]
        }
      ],
      "source": [
        "# Answer here \n",
        "def num_in_range(num=0,low=0,high=0):\n",
        "  print( num in range(low,high))\n",
        "\n",
        "num_in_range(5,4,7)"
      ]
    },
    {
      "cell_type": "markdown",
      "metadata": {
        "id": "l_o9uDEnHAVo"
      },
      "source": [
        "## <p style=\"color:orange;\">Q.10 Write a Python function to multiply all the numbers in a list.</p>\n",
        "> Sample List : [1, 2, 3, -4]\n",
        "\n",
        "> Expected Output : -24"
      ]
    },
    {
      "cell_type": "code",
      "execution_count": 153,
      "metadata": {
        "colab": {
          "base_uri": "https://localhost:8080/"
        },
        "id": "eq9IcHDwHAVo",
        "outputId": "30362da1-b376-4456-875e-a6847d60f818"
      },
      "outputs": [
        {
          "output_type": "stream",
          "name": "stdout",
          "text": [
            "-24\n"
          ]
        }
      ],
      "source": [
        "# Answer here \n",
        "def multiply(list=[]):\n",
        "  mult=1\n",
        "  for i in list:mult*=i\n",
        "  print(mult)\n",
        "\n",
        "  \n",
        "multiply( [1, 2, 3, -4])"
      ]
    },
    {
      "cell_type": "markdown",
      "metadata": {
        "id": "IVEqroryHAVo"
      },
      "source": [
        "## <p style=\"color:red;\">Q.11 Write a Python function that checks whether a passed string is palindrome or not.</p>\n",
        ">Note: A palindrome is word, phrase, or sequence that reads the same backward as forward, e.g., madam or nurses run."
      ]
    },
    {
      "cell_type": "code",
      "execution_count": 4,
      "metadata": {
        "colab": {
          "base_uri": "https://localhost:8080/"
        },
        "id": "Hhl0mvHBHAVp",
        "outputId": "0e346e44-1701-4ad7-fba7-761cd83959d4"
      },
      "outputs": [
        {
          "output_type": "stream",
          "name": "stdout",
          "text": [
            "hello madam\n"
          ]
        }
      ],
      "source": [
        "# Answer here \n",
        "def check(str_=''):\n",
        "  print(f'hello {str_.strip()}' if str_.strip() in ['madam','nurses'] else 'error')\n",
        "\n",
        "check(str_='madam  ')"
      ]
    },
    {
      "cell_type": "markdown",
      "metadata": {
        "id": "gTsPCa64HAVp"
      },
      "source": [
        "## <p style=\"color:green;\">Q.12 Write a Python program to create a lambda function that adds 15 to a given number passed in as an argument\n"
      ]
    },
    {
      "cell_type": "code",
      "execution_count": 10,
      "metadata": {
        "colab": {
          "base_uri": "https://localhost:8080/"
        },
        "id": "4_DhlPUgHAVp",
        "outputId": "5b5dc919-a1e7-48c9-8e36-7aa66af8ff96"
      },
      "outputs": [
        {
          "output_type": "stream",
          "name": "stdout",
          "text": [
            "enter num : 5\n",
            " 5 + 15 = 20\n"
          ]
        }
      ],
      "source": [
        "# Answer here \n",
        "adds_15_to_a_number=lambda x:print(f' {x} + 15 = {x+15}')\n",
        "adds_15_to_a_number(int(input('enter num : ')))"
      ]
    },
    {
      "cell_type": "markdown",
      "metadata": {
        "id": "IMPS_d9NHAVp"
      },
      "source": [
        "## <p style=\"color:green;\">Q.13 create a lambda function that multiplies argument x with argument y and print the result.</p>\n"
      ]
    },
    {
      "cell_type": "code",
      "execution_count": 11,
      "metadata": {
        "colab": {
          "base_uri": "https://localhost:8080/"
        },
        "id": "Rr_0MQ-7HAVp",
        "outputId": "06388ce3-246a-453d-a074-90a3b7d4360a"
      },
      "outputs": [
        {
          "output_type": "stream",
          "name": "stdout",
          "text": [
            "enter num1 : 5\n",
            "enter num2 : 5\n",
            " 5 * 5 = 25\n"
          ]
        }
      ],
      "source": [
        "# Answer here \n",
        "mult_x_and_y=lambda x,y:print(f' {x} * {y} = {x*y}')\n",
        "mult_x_and_y(int(input('enter num1 : ')),int(input('enter num2 : ')))"
      ]
    },
    {
      "cell_type": "markdown",
      "metadata": {
        "id": "V-y0wQXWHAVp"
      },
      "source": [
        "## <p style=\"color:orange;\">Q.14 Write a Python program to filter a list of integers using Lambda. </p>\n",
        "> Original list of integers:[1, 2, 3, 4, 5, 6, 7, 8, 9, 10]\n",
        "\n",
        "> Even numbers from the said list:[2, 4, 6, 8, 10]\n",
        "\n",
        "> Odd numbers from the said list:[1, 3, 5, 7, 9]\n"
      ]
    },
    {
      "cell_type": "code",
      "execution_count": 14,
      "metadata": {
        "colab": {
          "base_uri": "https://localhost:8080/"
        },
        "id": "KVBdfZJOHAVq",
        "outputId": "0f9da46b-5b87-420b-9ea2-4acdda264022"
      },
      "outputs": [
        {
          "output_type": "stream",
          "name": "stdout",
          "text": [
            "\n",
            "      Even numbers from the said list : [2, 4, 6, 8, 10]\n",
            "      Odd numbers from the said list : [1, 3, 5, 7, 9]\n",
            "      \n"
          ]
        }
      ],
      "source": [
        "# Answer here \n",
        "def list_filter (list_=[]):\n",
        "  Even_numbers = []\n",
        "  Odd_numbers = []\n",
        "  for num in list_:\n",
        "    Even_numbers.append(num) if num%2==0 else Odd_numbers.append(num)\n",
        "  print(f'''\n",
        "      Even numbers from the said list : {Even_numbers}\n",
        "      Odd numbers from the said list : {Odd_numbers}\n",
        "      '''\n",
        "  )\n",
        "\n",
        "list_filter(list_=[1, 2, 3, 4, 5, 6, 7, 8, 9, 10])  "
      ]
    },
    {
      "cell_type": "code",
      "source": [
        "nums = [1, 2, 3, 4, 5, 6, 7, 8, 9, 10]\n",
        "print(\"Original list of integers:\")\n",
        "print(nums)\n",
        "print(\"\\nEven numbers from the said list:\")\n",
        "even_nums = list(filter(lambda x: x%2 == 0, nums))\n",
        "print(even_nums)\n",
        "print(\"\\nOdd numbers from the said list:\")\n",
        "odd_nums = list(filter(lambda x: x%2 != 0, nums))\n",
        "print(odd_nums)"
      ],
      "metadata": {
        "colab": {
          "base_uri": "https://localhost:8080/"
        },
        "id": "L8GjCsWKJ6Ml",
        "outputId": "8831968f-50d6-4e63-e0ab-0aed0a869239"
      },
      "execution_count": 18,
      "outputs": [
        {
          "output_type": "stream",
          "name": "stdout",
          "text": [
            "Original list of integers:\n",
            "[1, 2, 3, 4, 5, 6, 7, 8, 9, 10]\n",
            "\n",
            "Even numbers from the said list:\n",
            "[2, 4, 6, 8, 10]\n",
            "\n",
            "Odd numbers from the said list:\n",
            "[1, 3, 5, 7, 9]\n"
          ]
        }
      ]
    },
    {
      "cell_type": "markdown",
      "metadata": {
        "id": "IAa2axdlHAVq"
      },
      "source": [
        "## <p style=\"color:green;\">Q.15 Write a Python program to triple all numbers of a given list of integers. Use Python map.</p>\n"
      ]
    },
    {
      "cell_type": "code",
      "execution_count": 22,
      "metadata": {
        "colab": {
          "base_uri": "https://localhost:8080/"
        },
        "id": "RNp1sex9HAVq",
        "outputId": "1957ecdb-da3d-42f2-e76b-5ab2349e5fe6"
      },
      "outputs": [
        {
          "output_type": "stream",
          "name": "stdout",
          "text": [
            "[3, 9, 15, 21, 27]\n"
          ]
        }
      ],
      "source": [
        "# Answer here \n",
        "list_triple = map(lambda x:x*3 ,[1, 3, 5, 7, 9] )\n",
        "print(list(list_triple))"
      ]
    },
    {
      "cell_type": "markdown",
      "metadata": {
        "id": "F0UAGP_RHAVq"
      },
      "source": [
        "## <p style=\"color:orange;\">Q.16 Write a Python program to add three given lists using Python map and lambda.\n",
        "\n",
        "</p>\n"
      ]
    },
    {
      "cell_type": "code",
      "source": [
        "nums1 = [1, 2, 3] \n",
        "nums2 = [4, 5, 6] \n",
        "nums3 = [7, 8, 9] \n",
        "print(\"Original list: \")\n",
        "print(nums1)  \n",
        "print(nums2)  \n",
        "print(nums3)  \n",
        "result = map(lambda x, y, z: x + y + z, nums1, nums2, nums3) \n",
        "print(\"\\nNew list after adding above three lists:\")\n",
        "print(list(result))"
      ],
      "metadata": {
        "colab": {
          "base_uri": "https://localhost:8080/"
        },
        "id": "UBEm0fpIdEEs",
        "outputId": "7ad926bd-e7fb-4ac2-ef8a-e4428dbdcaa0"
      },
      "execution_count": 29,
      "outputs": [
        {
          "output_type": "stream",
          "name": "stdout",
          "text": [
            "Original list: \n",
            "[1, 2, 3]\n",
            "[4, 5, 6]\n",
            "[7, 8, 9]\n",
            "\n",
            "New list after adding above three lists:\n",
            "[12, 15, 18]\n"
          ]
        }
      ]
    },
    {
      "cell_type": "markdown",
      "metadata": {
        "id": "qCGHSDVuHAVr"
      },
      "source": [
        "## <p style=\"color:orange;\">Q.17 Write a Python program to square the elements of a list using map() function.</p>\n"
      ]
    },
    {
      "cell_type": "code",
      "execution_count": 35,
      "metadata": {
        "colab": {
          "base_uri": "https://localhost:8080/"
        },
        "id": "6K8xLZJAHAVr",
        "outputId": "c7e14ecf-fffb-472f-c133-51620ed265d7"
      },
      "outputs": [
        {
          "output_type": "stream",
          "name": "stdout",
          "text": [
            "[25, 36, 64, 81, 49]\n"
          ]
        }
      ],
      "source": [
        "# Answer here \n",
        "result = map(lambda x:x**2, [5,6,8,9,7])\n",
        "print(list(result))"
      ]
    },
    {
      "cell_type": "markdown",
      "metadata": {
        "id": "v8rXRCJWHAVr"
      },
      "source": [
        "## <p style=\"color:green;\">Q.18 Using filter() function filter the list so that only negative numbers are left.</p>\n",
        "> lst1  [12,-1,9,8,-.5,-.2,-100]\n"
      ]
    },
    {
      "cell_type": "code",
      "execution_count": 36,
      "metadata": {
        "colab": {
          "base_uri": "https://localhost:8080/"
        },
        "id": "AUTyRrJxHAVr",
        "outputId": "b523cf75-58e8-47db-b37f-4f202eebf566"
      },
      "outputs": [
        {
          "output_type": "stream",
          "name": "stdout",
          "text": [
            "[12, 9, 8]\n"
          ]
        }
      ],
      "source": [
        "# Answer here\n",
        "nums =[12,-1,9,8,-.5,-.2,-100]\n",
        "positive_nums = list(filter(lambda x: x>= 0, nums))\n",
        "print(list(positive_nums))"
      ]
    },
    {
      "cell_type": "markdown",
      "metadata": {
        "id": "fCFd5fkTHAVr"
      },
      "source": [
        "## <p style=\"color:green;\">Q.19 Using filter function, filter the even numbers so that only odd numbers are passed to the new list.</p>\n",
        "> lst1  [22,100,19,13,11,1,4,66]\n"
      ]
    },
    {
      "cell_type": "code",
      "execution_count": 37,
      "metadata": {
        "colab": {
          "base_uri": "https://localhost:8080/"
        },
        "id": "tVUzdRhHHAVr",
        "outputId": "591f6d38-fd26-4c8e-b34a-633de5902977"
      },
      "outputs": [
        {
          "output_type": "stream",
          "name": "stdout",
          "text": [
            "[19, 13, 11, 1]\n"
          ]
        }
      ],
      "source": [
        "# Answer here\n",
        "nums=[22,100,19,13,11,1,4,66]\n",
        "odd_nums = list(filter(lambda x: x%2 != 0, nums))\n",
        "print(list(odd_nums))"
      ]
    },
    {
      "cell_type": "markdown",
      "metadata": {
        "id": "SvMsKyOmHAVs"
      },
      "source": [
        "## <p style=\"color:green;\">Q.20 Using map() and filter() functions add 2000 to the values below 8000.</p>\n",
        "> lst [1000,500,600,700,5000,90000,17500]"
      ]
    },
    {
      "cell_type": "code",
      "execution_count": 41,
      "metadata": {
        "colab": {
          "base_uri": "https://localhost:8080/"
        },
        "id": "KBLvvWY6HAVs",
        "outputId": "80e7e16f-e1a6-4285-f38a-665db3e895ae"
      },
      "outputs": [
        {
          "output_type": "stream",
          "name": "stdout",
          "text": [
            "[3000, 2500, 2600, 2700, 7000]\n"
          ]
        }
      ],
      "source": [
        "# Answer here \n",
        "nums=[1000,500,600,700,5000,90000,17500]\n",
        "list_nums = list(filter(lambda x: x<8000, nums))\n",
        "list_new_nums =map(lambda x :x+2000,list_nums)\n",
        "print(list(list_new_nums))"
      ]
    },
    {
      "cell_type": "markdown",
      "metadata": {
        "id": "4wWMqHtsHAVs"
      },
      "source": [
        "# <center> Thank's for your effort ❤️ </center> "
      ]
    }
  ],
  "metadata": {
    "kernelspec": {
      "display_name": "Python 3",
      "language": "python",
      "name": "python3"
    },
    "language_info": {
      "codemirror_mode": {
        "name": "ipython",
        "version": 3
      },
      "file_extension": ".py",
      "mimetype": "text/x-python",
      "name": "python",
      "nbconvert_exporter": "python",
      "pygments_lexer": "ipython3",
      "version": "3.8.5"
    },
    "colab": {
      "provenance": [],
      "collapsed_sections": []
    }
  },
  "nbformat": 4,
  "nbformat_minor": 0
}